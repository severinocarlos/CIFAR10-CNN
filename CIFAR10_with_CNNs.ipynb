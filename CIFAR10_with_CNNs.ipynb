{
  "nbformat": 4,
  "nbformat_minor": 0,
  "metadata": {
    "colab": {
      "provenance": [],
      "gpuType": "T4"
    },
    "kernelspec": {
      "name": "python3",
      "display_name": "Python 3"
    },
    "language_info": {
      "name": "python"
    },
    "accelerator": "GPU"
  },
  "cells": [
    {
      "cell_type": "markdown",
      "source": [
        "# CIFAR10 with CNNs\n",
        "Simple starter notebook to benchmark your own CNN with PyTorch on the CIFAR-10 dataset.\n",
        "\n",
        "OBS.:\n",
        "\n",
        "- The main code is basically done, so focus on training the models and searching for the best hyperparameters and architectures.\n",
        "- You are not required to use this exact code or even the PyTorch library.\n",
        "- It is recommended to use execution environments with GPU access (such as Google Colab), since larger models will take more time to train.\n",
        "- Remember to document the history of your experiments and which results motivated the changes in subsequent experiments."
      ],
      "metadata": {
        "id": "BjND-9CP7R7n"
      }
    },
    {
      "cell_type": "code",
      "execution_count": null,
      "metadata": {
        "id": "_ErVptyZ7Npv"
      },
      "outputs": [],
      "source": [
        "#@title Libs\n",
        "\n",
        "import torch\n",
        "import torchvision\n",
        "import torch.nn as nn\n",
        "import torchvision.transforms as transforms\n",
        "\n",
        "import matplotlib.pyplot as plt\n",
        "import numpy as np\n",
        "from sklearn import metrics\n",
        "\n",
        "from tqdm import tqdm"
      ]
    },
    {
      "cell_type": "code",
      "source": [
        "#@title Dataset Setup\n",
        "\n",
        "transform = transforms.Compose(\n",
        "    [transforms.ToTensor(),\n",
        "     transforms.Normalize((0.5, 0.5, 0.5), (0.5, 0.5, 0.5))])\n",
        "\n",
        "train_dataset = torchvision.datasets.CIFAR10(root='./data', train=True,\n",
        "                                        download=True, transform=transform)\n",
        "\n",
        "test_dataset = torchvision.datasets.CIFAR10(root='./data', train=False,\n",
        "                                       download=True, transform=transform)"
      ],
      "metadata": {
        "id": "fcH-AHUK8eGn",
        "colab": {
          "base_uri": "https://localhost:8080/"
        },
        "outputId": "54a02540-db6f-407e-8159-bdef98527e89"
      },
      "execution_count": null,
      "outputs": [
        {
          "output_type": "stream",
          "name": "stderr",
          "text": [
            "100%|██████████| 170M/170M [00:03<00:00, 48.4MB/s]\n"
          ]
        }
      ]
    },
    {
      "cell_type": "markdown",
      "source": [
        "### Defining the CNN model\n",
        "Here we adapt the LeNet-5 architecture introduced in [*Gradient-based learning applied to document recognition*](https://ieeexplore.ieee.org/document/726791), originally developed to classify handwritten digits.\n",
        "\n",
        "![lenet5](https://www.researchgate.net/publication/359784095/figure/fig2/AS:11431281079624737@1660789284522/Example-of-a-CNN-LeNet-5-14-is-able-to-identify-handwritten-digits-for-zip-code.png)\n",
        "\n",
        "\n",
        "The main change we made here is the number of in/out channels, kernel sizes, padding, etc (enabling better results). It has 2 convolutional layers followed by 2 pooling (subsampling) layers. After the conv. blocks, we pass the feature maps through 2 hidden fully-connected layers to get the most activated neuron with the softmax function. If you want a more detailed explanation, [check this link](https://www.datasciencecentral.com/lenet-5-a-classic-cnn-architecture/) or reach us on Discord :)"
      ],
      "metadata": {
        "id": "6EZqIY5yam_a"
      }
    },
    {
      "cell_type": "code",
      "source": [
        "class CNN(nn.Module):\n",
        "  def __init__(self):\n",
        "    super(CNN, self).__init__()\n",
        "    # Defining convolution blocks\n",
        "    self.conv1 = nn.Conv2d(3, 32, kernel_size=3, padding=1)\n",
        "    self.conv2 = nn.Conv2d(32, 64, kernel_size=3, padding=1)\n",
        "\n",
        "    # Defining pooling layer\n",
        "    self.pool = nn.MaxPool2d(kernel_size=2, stride=2)\n",
        "\n",
        "    # Defining fully-connected layers\n",
        "    self.fc_hidden1 = nn.Linear(64 * 8 * 8, 120)\n",
        "    self.fc_hidden2 = nn.Linear(120, 84)\n",
        "    self.fc_output = nn.Linear(84, 10)\n",
        "\n",
        "  def forward(self, x):\n",
        "    x = self.pool(nn.ReLU()(self.conv1(x)))\n",
        "    x = self.pool(nn.ReLU()(self.conv2(x)))\n",
        "    x = x.view(x.size(0), -1) # flatten to input into fc layers\n",
        "    x = nn.ReLU()(self.fc_hidden1(x))\n",
        "    x = nn.ReLU()(self.fc_hidden2(x))\n",
        "    x = self.fc_output(x)\n",
        "    return x"
      ],
      "metadata": {
        "id": "KLjycMiT8zo-"
      },
      "execution_count": null,
      "outputs": []
    },
    {
      "cell_type": "code",
      "source": [
        "#@title Defining metrics helper\n",
        "\n",
        "def get_scores(targets, predictions):\n",
        "    return {\n",
        "        \"accuracy\": metrics.accuracy_score(targets, predictions),\n",
        "        \"balanced_accuracy\": metrics.balanced_accuracy_score(targets, predictions),\n",
        "        \"precision\": metrics.precision_score(targets, predictions, average=\"weighted\"),\n",
        "        \"recall\": metrics.recall_score(targets, predictions, average=\"weighted\"),\n",
        "        \"f1_score\": metrics.f1_score(targets, predictions, average=\"weighted\")\n",
        "    }"
      ],
      "metadata": {
        "id": "13FaQlXcNvM6"
      },
      "execution_count": null,
      "outputs": []
    },
    {
      "cell_type": "code",
      "source": [
        "#@title Hyperparameters\n",
        "\n",
        "learning_rate = 0.001\n",
        "num_epochs = 10\n",
        "batch_size = 32\n",
        "\n",
        "loss_function = nn.CrossEntropyLoss()"
      ],
      "metadata": {
        "id": "tyat2KDLL92I"
      },
      "execution_count": null,
      "outputs": []
    },
    {
      "cell_type": "code",
      "source": [
        "#@title Loaders\n",
        "\n",
        "train_loader = torch.utils.data.DataLoader(train_dataset, batch_size=batch_size, shuffle=True)\n",
        "test_loader = torch.utils.data.DataLoader(test_dataset, batch_size=batch_size, shuffle=False)"
      ],
      "metadata": {
        "id": "OYk-5ANCMIRY"
      },
      "execution_count": null,
      "outputs": []
    },
    {
      "cell_type": "code",
      "source": [
        "#@title Training loop\n",
        "\n",
        "# Build the model\n",
        "cnn = CNN()\n",
        "cnn.cuda()\n",
        "\n",
        "# Setting optimizer up\n",
        "optimizer = torch.optim.Adam(cnn.parameters(), lr=learning_rate)\n",
        "\n",
        "# Early stopping setup\n",
        "best_loss = float('inf')\n",
        "patience = 5\n",
        "patience_counter = 0\n",
        "\n",
        "# Start training epochs loop\n",
        "for epoch in tqdm(range(num_epochs)):\n",
        "  epoch_loss = 0.0\n",
        "  for i, (images, labels) in enumerate(train_loader):\n",
        "    images = images.cuda()\n",
        "    labels = labels.cuda()\n",
        "\n",
        "    # Forward pass\n",
        "    optimizer.zero_grad()\n",
        "    outputs = cnn(images)\n",
        "\n",
        "    # Backward pass\n",
        "    loss = loss_function(outputs, labels)\n",
        "    loss.backward()\n",
        "\n",
        "    optimizer.step()\n",
        "\n",
        "    epoch_loss += loss.item()\n",
        "\n",
        "    if (i+1) % 1000 == 0:\n",
        "      tqdm.write(f' Epoch {epoch + 1}/{num_epochs}, Step {i+1}/{len(train_dataset) // batch_size}, Loss: {loss}')\n",
        "\n",
        "  # Loss avrg\n",
        "  epoch_loss /= len(train_loader)\n",
        "  tqdm.write(f' Epoch {epoch+1} average loss: {epoch_loss:.4f}')\n",
        "\n",
        "  # Early stopping using loss\n",
        "  if epoch_loss < best_loss:\n",
        "    best_loss = epoch_loss\n",
        "    patience_counter = 0\n",
        "  else:\n",
        "    patience_counter += 1\n",
        "    if patience_counter >= patience:\n",
        "      tqdm.write(\"Early stopping triggered.\")\n",
        "      break"
      ],
      "metadata": {
        "id": "XjTJpiboLmSF",
        "colab": {
          "base_uri": "https://localhost:8080/"
        },
        "outputId": "90cc10a7-6ae3-4dad-8ff6-0c27f0a0517b"
      },
      "execution_count": null,
      "outputs": [
        {
          "output_type": "stream",
          "name": "stderr",
          "text": [
            "  0%|          | 0/10 [00:11<?, ?it/s]"
          ]
        },
        {
          "output_type": "stream",
          "name": "stdout",
          "text": [
            " Epoch 1/10, Step 1000/1562, Loss: 1.3045551776885986\n"
          ]
        },
        {
          "output_type": "stream",
          "name": "stderr",
          "text": [
            " 10%|█         | 1/10 [00:17<02:34, 17.21s/it]"
          ]
        },
        {
          "output_type": "stream",
          "name": "stdout",
          "text": [
            " Epoch 1 average loss: 1.3513\n"
          ]
        },
        {
          "output_type": "stream",
          "name": "stderr",
          "text": [
            " 10%|█         | 1/10 [00:27<02:34, 17.21s/it]"
          ]
        },
        {
          "output_type": "stream",
          "name": "stdout",
          "text": [
            " Epoch 2/10, Step 1000/1562, Loss: 0.9413278698921204\n"
          ]
        },
        {
          "output_type": "stream",
          "name": "stderr",
          "text": [
            " 20%|██        | 2/10 [00:33<02:14, 16.82s/it]"
          ]
        },
        {
          "output_type": "stream",
          "name": "stdout",
          "text": [
            " Epoch 2 average loss: 0.9563\n"
          ]
        },
        {
          "output_type": "stream",
          "name": "stderr",
          "text": [
            " 20%|██        | 2/10 [00:44<02:14, 16.82s/it]"
          ]
        },
        {
          "output_type": "stream",
          "name": "stdout",
          "text": [
            " Epoch 3/10, Step 1000/1562, Loss: 0.4517377018928528\n"
          ]
        },
        {
          "output_type": "stream",
          "name": "stderr",
          "text": [
            " 30%|███       | 3/10 [00:49<01:54, 16.39s/it]"
          ]
        },
        {
          "output_type": "stream",
          "name": "stdout",
          "text": [
            " Epoch 3 average loss: 0.7888\n"
          ]
        },
        {
          "output_type": "stream",
          "name": "stderr",
          "text": [
            " 30%|███       | 3/10 [01:00<01:54, 16.39s/it]"
          ]
        },
        {
          "output_type": "stream",
          "name": "stdout",
          "text": [
            " Epoch 4/10, Step 1000/1562, Loss: 1.020493507385254\n"
          ]
        },
        {
          "output_type": "stream",
          "name": "stderr",
          "text": [
            " 40%|████      | 4/10 [01:05<01:37, 16.22s/it]"
          ]
        },
        {
          "output_type": "stream",
          "name": "stdout",
          "text": [
            " Epoch 4 average loss: 0.6636\n"
          ]
        },
        {
          "output_type": "stream",
          "name": "stderr",
          "text": [
            " 40%|████      | 4/10 [01:15<01:37, 16.22s/it]"
          ]
        },
        {
          "output_type": "stream",
          "name": "stdout",
          "text": [
            " Epoch 5/10, Step 1000/1562, Loss: 0.3785927891731262\n"
          ]
        },
        {
          "output_type": "stream",
          "name": "stderr",
          "text": [
            " 50%|█████     | 5/10 [01:21<01:21, 16.24s/it]"
          ]
        },
        {
          "output_type": "stream",
          "name": "stdout",
          "text": [
            " Epoch 5 average loss: 0.5615\n"
          ]
        },
        {
          "output_type": "stream",
          "name": "stderr",
          "text": [
            " 50%|█████     | 5/10 [01:32<01:21, 16.24s/it]"
          ]
        },
        {
          "output_type": "stream",
          "name": "stdout",
          "text": [
            " Epoch 6/10, Step 1000/1562, Loss: 0.3583453297615051\n"
          ]
        },
        {
          "output_type": "stream",
          "name": "stderr",
          "text": [
            " 60%|██████    | 6/10 [01:38<01:05, 16.33s/it]"
          ]
        },
        {
          "output_type": "stream",
          "name": "stdout",
          "text": [
            " Epoch 6 average loss: 0.4670\n"
          ]
        },
        {
          "output_type": "stream",
          "name": "stderr",
          "text": [
            " 60%|██████    | 6/10 [01:48<01:05, 16.33s/it]"
          ]
        },
        {
          "output_type": "stream",
          "name": "stdout",
          "text": [
            " Epoch 7/10, Step 1000/1562, Loss: 0.4040728211402893\n"
          ]
        },
        {
          "output_type": "stream",
          "name": "stderr",
          "text": [
            " 70%|███████   | 7/10 [01:54<00:48, 16.16s/it]"
          ]
        },
        {
          "output_type": "stream",
          "name": "stdout",
          "text": [
            " Epoch 7 average loss: 0.3850\n"
          ]
        },
        {
          "output_type": "stream",
          "name": "stderr",
          "text": [
            " 70%|███████   | 7/10 [02:04<00:48, 16.16s/it]"
          ]
        },
        {
          "output_type": "stream",
          "name": "stdout",
          "text": [
            " Epoch 8/10, Step 1000/1562, Loss: 0.15541107952594757\n"
          ]
        },
        {
          "output_type": "stream",
          "name": "stderr",
          "text": [
            " 80%|████████  | 8/10 [02:10<00:32, 16.09s/it]"
          ]
        },
        {
          "output_type": "stream",
          "name": "stdout",
          "text": [
            " Epoch 8 average loss: 0.3135\n"
          ]
        },
        {
          "output_type": "stream",
          "name": "stderr",
          "text": [
            " 80%|████████  | 8/10 [02:20<00:32, 16.09s/it]"
          ]
        },
        {
          "output_type": "stream",
          "name": "stdout",
          "text": [
            " Epoch 9/10, Step 1000/1562, Loss: 0.32187366485595703\n"
          ]
        },
        {
          "output_type": "stream",
          "name": "stderr",
          "text": [
            " 90%|█████████ | 9/10 [02:25<00:15, 15.96s/it]"
          ]
        },
        {
          "output_type": "stream",
          "name": "stdout",
          "text": [
            " Epoch 9 average loss: 0.2598\n"
          ]
        },
        {
          "output_type": "stream",
          "name": "stderr",
          "text": [
            " 90%|█████████ | 9/10 [02:35<00:15, 15.96s/it]"
          ]
        },
        {
          "output_type": "stream",
          "name": "stdout",
          "text": [
            " Epoch 10/10, Step 1000/1562, Loss: 0.09052383154630661\n"
          ]
        },
        {
          "output_type": "stream",
          "name": "stderr",
          "text": [
            "100%|██████████| 10/10 [02:41<00:00, 16.14s/it]"
          ]
        },
        {
          "output_type": "stream",
          "name": "stdout",
          "text": [
            " Epoch 10 average loss: 0.2124\n"
          ]
        },
        {
          "output_type": "stream",
          "name": "stderr",
          "text": [
            "\n"
          ]
        }
      ]
    },
    {
      "cell_type": "code",
      "source": [
        "#@title Evaluate model (accuracy, precision, recall, etc)\n",
        "\n",
        "cnn.eval()\n",
        "predictions = []\n",
        "labels = []\n",
        "for images, label in test_loader:\n",
        "  images = images.cuda()\n",
        "  label = label.cuda()\n",
        "\n",
        "  output = cnn(images)\n",
        "  _, predicted = torch.max(output,1)\n",
        "\n",
        "  predictions.extend(predicted.cpu().numpy())\n",
        "  labels.extend(label.cpu().numpy())\n",
        "\n",
        "scores = get_scores(labels, predictions)\n",
        "print(\"Scores of your model\\n\", scores)"
      ],
      "metadata": {
        "id": "lw6GWhmer78h",
        "colab": {
          "base_uri": "https://localhost:8080/"
        },
        "outputId": "69ce7718-07c3-4b09-d9d8-f4374c7fe148"
      },
      "execution_count": null,
      "outputs": [
        {
          "output_type": "stream",
          "name": "stdout",
          "text": [
            "Scores of your model\n",
            " {'accuracy': 0.7037, 'balanced_accuracy': np.float64(0.7036999999999999), 'precision': 0.7126224009353258, 'recall': 0.7037, 'f1_score': 0.7053980487538112}\n"
          ]
        }
      ]
    },
    {
      "cell_type": "markdown",
      "source": [
        "# You can change/optimize this as you want\n",
        "- Automatic hyperparameters optimization (Optuna)\n",
        "- Regularization techniques (tip: try dropout)\n",
        "- Use other convolution combinations (e.g. ResNet blocks)\n",
        "- Validation set to track metrics during epochs\n",
        "- Transform input data\n",
        "- ..."
      ],
      "metadata": {
        "id": "bA8HgFj-MjYc"
      }
    },
    {
      "cell_type": "markdown",
      "source": [
        "## Imports"
      ],
      "metadata": {
        "id": "lKJf42wXFMCV"
      }
    },
    {
      "cell_type": "code",
      "source": [
        "import torch\n",
        "import torchvision\n",
        "import torch.nn as nn\n",
        "import torchvision.transforms as transforms\n",
        "import matplotlib.pyplot as plt\n",
        "import numpy as np\n",
        "from sklearn import metrics\n",
        "from tqdm import tqdm"
      ],
      "metadata": {
        "id": "zUlcE79TFHnz"
      },
      "execution_count": null,
      "outputs": []
    },
    {
      "cell_type": "markdown",
      "source": [
        "## Data augmentation + normalização"
      ],
      "metadata": {
        "id": "LvF2JPj3FWTM"
      }
    },
    {
      "cell_type": "code",
      "source": [
        "transform_train = transforms.Compose([\n",
        "    transforms.RandomCrop(32, padding=4),      # recorte aleatório com padding\n",
        "    transforms.RandomHorizontalFlip(),         # espelhamento horizontal\n",
        "    transforms.ToTensor(),\n",
        "    transforms.Normalize((0.5,)*3, (0.5,)*3),\n",
        "])\n",
        "\n",
        "transform_test = transforms.Compose([\n",
        "    transforms.ToTensor(),\n",
        "    transforms.Normalize((0.5,)*3, (0.5,)*3),\n",
        "])\n",
        "\n",
        "# Carregando CIFAR-10\n",
        "train_dataset = torchvision.datasets.CIFAR10(\n",
        "    root='./data', train=True, download=True, transform=transform_train)\n",
        "test_dataset = torchvision.datasets.CIFAR10(\n",
        "    root='./data', train=False, download=True, transform=transform_test)\n",
        "\n",
        "batch_size = 32\n",
        "train_loader = torch.utils.data.DataLoader(\n",
        "    train_dataset, batch_size=batch_size, shuffle=True, num_workers=2)\n",
        "test_loader = torch.utils.data.DataLoader(\n",
        "    test_dataset, batch_size=batch_size, shuffle=False, num_workers=2)"
      ],
      "metadata": {
        "colab": {
          "base_uri": "https://localhost:8080/"
        },
        "id": "Bv37CISBFSS1",
        "outputId": "783c9713-9224-4136-da89-c5b26c3d9269"
      },
      "execution_count": null,
      "outputs": [
        {
          "output_type": "stream",
          "name": "stderr",
          "text": [
            "100%|██████████| 170M/170M [00:05<00:00, 29.3MB/s]\n"
          ]
        }
      ]
    },
    {
      "cell_type": "markdown",
      "source": [
        "### A data augmentation (crop + flip) ajuda a rede a generalizar melhor, criando variantes artificiais das imagens de treino."
      ],
      "metadata": {
        "id": "vcb8bYjAGvz4"
      }
    },
    {
      "cell_type": "markdown",
      "source": [
        "## Definição do modelo base (LeNet‑like)"
      ],
      "metadata": {
        "id": "5-zlzJP5G-Vt"
      }
    },
    {
      "cell_type": "code",
      "source": [
        "class CNNBase(nn.Module):\n",
        "    def __init__(self, dropout_p=0.0):\n",
        "        super().__init__()\n",
        "        self.conv1 = nn.Conv2d(3, 32, kernel_size=3, padding=1)  # saída 32×32×32\n",
        "        self.conv2 = nn.Conv2d(32, 64, kernel_size=3, padding=1) # saída 64×32×32\n",
        "        self.pool  = nn.MaxPool2d(kernel_size=2, stride=2)       # reduz pela metade\n",
        "        self.drop  = nn.Dropout(dropout_p)                       # dropout\n",
        "        self.fc1   = nn.Linear(64*8*8, 120)\n",
        "        self.fc2   = nn.Linear(120, 84)\n",
        "        self.fc3   = nn.Linear(84, 10)\n",
        "\n",
        "    def forward(self, x):\n",
        "        x = self.pool(torch.relu(self.conv1(x)))\n",
        "        x = self.pool(torch.relu(self.conv2(x)))\n",
        "        x = x.view(x.size(0), -1)\n",
        "        x = self.drop(torch.relu(self.fc1(x)))\n",
        "        x = self.drop(torch.relu(self.fc2(x)))\n",
        "        return self.fc3(x)\n",
        "\n",
        "# Instanciando e mudando para GPU\n",
        "device = torch.device('cuda' if torch.cuda.is_available() else 'cpu')\n",
        "model = CNNBase(dropout_p=0.0).to(device)"
      ],
      "metadata": {
        "id": "Cl6Xp5pXHtGS"
      },
      "execution_count": null,
      "outputs": []
    },
    {
      "cell_type": "markdown",
      "source": [
        "### Esse modelo usa kernel_size=3 e padding=1 para manter dimensões após convolução, seguido de pooling 2×2."
      ],
      "metadata": {
        "id": "i0K4vNdyH_Jp"
      }
    },
    {
      "cell_type": "markdown",
      "source": [
        "## Funções de treino, validação e métricas"
      ],
      "metadata": {
        "id": "KLBG2HhsIAyJ"
      }
    },
    {
      "cell_type": "markdown",
      "source": [
        "### Objetivo: criar funções reutilizáveis para treinar e avaliar o modelo, registrando loss e métricas."
      ],
      "metadata": {
        "id": "jjGLdu8-JihY"
      }
    },
    {
      "cell_type": "code",
      "source": [
        "criterion = nn.CrossEntropyLoss()\n",
        "optimizer = torch.optim.Adam(model.parameters(), lr=0.001)  # learning_rate inicial\n",
        "\n",
        "def train_epoch(model, loader, optimizer, criterion):\n",
        "    model.train()\n",
        "    running_loss = 0.0\n",
        "    for images, labels in loader:\n",
        "        images, labels = images.to(device), labels.to(device)\n",
        "        optimizer.zero_grad()\n",
        "        outputs = model(images)\n",
        "        loss = criterion(outputs, labels)\n",
        "        loss.backward()\n",
        "        optimizer.step()\n",
        "        running_loss += loss.item() * images.size(0)\n",
        "    return running_loss / len(loader.dataset)\n",
        "\n",
        "def eval_model(model, loader):\n",
        "    model.eval()\n",
        "    preds, trues = [], []\n",
        "    with torch.no_grad():\n",
        "        for images, labels in loader:\n",
        "            images, labels = images.to(device), labels.to(device)\n",
        "            outputs = model(images)\n",
        "            _, predicted = torch.max(outputs, 1)\n",
        "            preds.extend(predicted.cpu().numpy())\n",
        "            trues.extend(labels.cpu().numpy())\n",
        "    return trues, preds\n",
        "\n",
        "def get_scores(targets, predictions):\n",
        "    return {\n",
        "        \"accuracy\": metrics.accuracy_score(targets, predictions),\n",
        "        \"precision\": metrics.precision_score(targets, predictions, average=\"weighted\"),\n",
        "        \"recall\": metrics.recall_score(targets, predictions, average=\"weighted\"),\n",
        "        \"f1_score\": metrics.f1_score(targets, predictions, average=\"weighted\")\n",
        "    }"
      ],
      "metadata": {
        "id": "rhwFAflFIcIK"
      },
      "execution_count": null,
      "outputs": []
    },
    {
      "cell_type": "markdown",
      "source": [
        "## Experimento 1: baseline sem alterações"
      ],
      "metadata": {
        "id": "pI1beHmCIuhi"
      }
    },
    {
      "cell_type": "markdown",
      "source": [
        "### Objetivo: treinar por algumas épocas e anotar as métricas iniciais."
      ],
      "metadata": {
        "id": "bW5tnhLrIyZC"
      }
    },
    {
      "cell_type": "code",
      "source": [
        "num_epochs = 10\n",
        "history = {\"train_loss\": [], \"test_acc\": []}\n",
        "\n",
        "for epoch in range(num_epochs):\n",
        "    loss = train_epoch(model, train_loader, optimizer, criterion)\n",
        "    trues, preds = eval_model(model, test_loader)\n",
        "    scores = get_scores(trues, preds)\n",
        "    history[\"train_loss\"].append(loss)\n",
        "    history[\"test_acc\"].append(scores[\"accuracy\"])\n",
        "    print(f\"Epoch {epoch+1}/{num_epochs} — Loss: {loss:.4f} — Test Acc: {scores['accuracy']:.4f}\")\n",
        "\n",
        "print(\"Métricas finais:\", scores)"
      ],
      "metadata": {
        "colab": {
          "base_uri": "https://localhost:8080/"
        },
        "id": "KbyI6a7QI2Ll",
        "outputId": "647c736a-4894-49bc-a483-8b15009c6d60"
      },
      "execution_count": null,
      "outputs": [
        {
          "output_type": "stream",
          "name": "stdout",
          "text": [
            "Epoch 1/10 — Loss: 1.5370 — Test Acc: 0.5606\n",
            "Epoch 2/10 — Loss: 1.1868 — Test Acc: 0.6512\n",
            "Epoch 3/10 — Loss: 1.0425 — Test Acc: 0.6649\n",
            "Epoch 4/10 — Loss: 0.9616 — Test Acc: 0.6919\n",
            "Epoch 5/10 — Loss: 0.9061 — Test Acc: 0.7145\n",
            "Epoch 6/10 — Loss: 0.8648 — Test Acc: 0.7196\n",
            "Epoch 7/10 — Loss: 0.8345 — Test Acc: 0.7372\n",
            "Epoch 8/10 — Loss: 0.8114 — Test Acc: 0.7380\n",
            "Epoch 9/10 — Loss: 0.7871 — Test Acc: 0.7486\n",
            "Epoch 10/10 — Loss: 0.7655 — Test Acc: 0.7441\n",
            "Métricas finais: {'accuracy': 0.7441, 'precision': 0.7527900844853129, 'recall': 0.7441, 'f1_score': 0.7458841607312076}\n"
          ]
        }
      ]
    },
    {
      "cell_type": "markdown",
      "source": [
        "### Anote no relatório gráfico de train_loss e test_acc por época e discuta se há under‑ ou overfitting."
      ],
      "metadata": {
        "id": "HlvWiAKaI9Sb"
      }
    },
    {
      "cell_type": "markdown",
      "source": [
        "## Experimento 2: variando tamanho do kernel"
      ],
      "metadata": {
        "id": "YFd3DLemI_Ez"
      }
    },
    {
      "cell_type": "markdown",
      "source": [
        "### Objetivo: alterar kernel_size para 5×5 em conv1 e conv2 e comparar resultados."
      ],
      "metadata": {
        "id": "5pPpoO6xJFfJ"
      }
    },
    {
      "cell_type": "code",
      "source": [
        "class CNN_K5(nn.Module):\n",
        "    def __init__(self, dropout_p=0.0):\n",
        "        super().__init__()\n",
        "        self.conv1 = nn.Conv2d(3, 32, kernel_size=5, padding=2)\n",
        "        self.conv2 = nn.Conv2d(32, 64, kernel_size=5, padding=2)\n",
        "        self.pool  = nn.MaxPool2d(2,2)\n",
        "        self.drop  = nn.Dropout(dropout_p)\n",
        "        self.fc1   = nn.Linear(64*8*8, 120)\n",
        "        self.fc2   = nn.Linear(120, 84)\n",
        "        self.fc3   = nn.Linear(84, 10)\n",
        "    def forward(self, x):\n",
        "        x = self.pool(torch.relu(self.conv1(x)))\n",
        "        x = self.pool(torch.relu(self.conv2(x)))\n",
        "        x = x.view(x.size(0), -1)\n",
        "        x = self.drop(torch.relu(self.fc1(x)))\n",
        "        x = self.drop(torch.relu(self.fc2(x)))\n",
        "        return self.fc3(x)\n",
        "\n",
        "# Re-instanciar modelo, otimizador e treinar novamente...\n",
        "model = CNN_K5(dropout_p=0.0).to(device)\n",
        "optimizer = torch.optim.Adam(model.parameters(), lr=0.001)"
      ],
      "metadata": {
        "id": "od79cd63JEo5"
      },
      "execution_count": null,
      "outputs": []
    },
    {
      "cell_type": "markdown",
      "source": [
        "### Filtros maiores capturam padrões mais globais, mas custam mais computação e podem suavizar detalhes finos."
      ],
      "metadata": {
        "id": "mpUpLWZgKFv8"
      }
    },
    {
      "cell_type": "code",
      "source": [
        "num_epochs = 10\n",
        "history = {\"train_loss\": [], \"test_acc\": []}\n",
        "\n",
        "for epoch in range(num_epochs):\n",
        "    loss = train_epoch(model, train_loader, optimizer, criterion)\n",
        "    trues, preds = eval_model(model, test_loader)\n",
        "    scores = get_scores(trues, preds)\n",
        "    history[\"train_loss\"].append(loss)\n",
        "    history[\"test_acc\"].append(scores[\"accuracy\"])\n",
        "    print(f\"Epoch {epoch+1}/{num_epochs} — Loss: {loss:.4f} — Test Acc: {scores['accuracy']:.4f}\")\n",
        "\n",
        "print(\"Métricas finais:\", scores)"
      ],
      "metadata": {
        "colab": {
          "base_uri": "https://localhost:8080/"
        },
        "id": "QOSFRavlKCM_",
        "outputId": "d6cf6bff-41cb-4535-df5a-4fb0a072e530"
      },
      "execution_count": null,
      "outputs": [
        {
          "output_type": "stream",
          "name": "stdout",
          "text": [
            "Epoch 1/10 — Loss: 1.5929 — Test Acc: 0.5283\n",
            "Epoch 2/10 — Loss: 1.2589 — Test Acc: 0.6156\n",
            "Epoch 3/10 — Loss: 1.1200 — Test Acc: 0.6274\n",
            "Epoch 4/10 — Loss: 1.0325 — Test Acc: 0.6824\n",
            "Epoch 5/10 — Loss: 0.9674 — Test Acc: 0.6941\n",
            "Epoch 6/10 — Loss: 0.9353 — Test Acc: 0.7147\n",
            "Epoch 7/10 — Loss: 0.9022 — Test Acc: 0.7067\n",
            "Epoch 8/10 — Loss: 0.8719 — Test Acc: 0.7120\n",
            "Epoch 9/10 — Loss: 0.8461 — Test Acc: 0.7199\n",
            "Epoch 10/10 — Loss: 0.8324 — Test Acc: 0.7364\n",
            "Métricas finais: {'accuracy': 0.7364, 'precision': 0.7390055599678893, 'recall': 0.7364, 'f1_score': 0.7346928846081736}\n"
          ]
        }
      ]
    },
    {
      "cell_type": "markdown",
      "source": [
        "## Experimento 3: adicionando Dropout"
      ],
      "metadata": {
        "id": "KLp004mwKJsD"
      }
    },
    {
      "cell_type": "markdown",
      "source": [
        "### Objetivo: testar dropout_p=0.3 para reduzir over‑fitting."
      ],
      "metadata": {
        "id": "qhziRwM1KMCr"
      }
    },
    {
      "cell_type": "code",
      "source": [
        "model = CNNBase(dropout_p=0.3).to(device)\n",
        "optimizer = torch.optim.Adam(model.parameters(), lr=0.001)"
      ],
      "metadata": {
        "id": "0QKf7klbKTrJ"
      },
      "execution_count": null,
      "outputs": []
    },
    {
      "cell_type": "code",
      "source": [
        "num_epochs = 10\n",
        "history = {\"train_loss\": [], \"test_acc\": []}\n",
        "\n",
        "for epoch in range(num_epochs):\n",
        "    loss = train_epoch(model, train_loader, optimizer, criterion)\n",
        "    trues, preds = eval_model(model, test_loader)\n",
        "    scores = get_scores(trues, preds)\n",
        "    history[\"train_loss\"].append(loss)\n",
        "    history[\"test_acc\"].append(scores[\"accuracy\"])\n",
        "    print(f\"Epoch {epoch+1}/{num_epochs} — Loss: {loss:.4f} — Test Acc: {scores['accuracy']:.4f}\")\n",
        "\n",
        "print(\"Métricas finais:\", scores)"
      ],
      "metadata": {
        "colab": {
          "base_uri": "https://localhost:8080/"
        },
        "id": "ab6JhqylKV1N",
        "outputId": "09dbf72e-5569-4624-da99-7ea656e79226"
      },
      "execution_count": null,
      "outputs": [
        {
          "output_type": "stream",
          "name": "stdout",
          "text": [
            "Epoch 1/10 — Loss: 1.7003 — Test Acc: 0.5171\n",
            "Epoch 2/10 — Loss: 1.4155 — Test Acc: 0.5707\n",
            "Epoch 3/10 — Loss: 1.2803 — Test Acc: 0.6237\n",
            "Epoch 4/10 — Loss: 1.1930 — Test Acc: 0.6556\n",
            "Epoch 5/10 — Loss: 1.1402 — Test Acc: 0.6648\n",
            "Epoch 6/10 — Loss: 1.0997 — Test Acc: 0.6685\n",
            "Epoch 7/10 — Loss: 1.0684 — Test Acc: 0.6929\n",
            "Epoch 8/10 — Loss: 1.0487 — Test Acc: 0.7049\n",
            "Epoch 9/10 — Loss: 1.0300 — Test Acc: 0.7094\n",
            "Epoch 10/10 — Loss: 1.0129 — Test Acc: 0.7118\n",
            "Métricas finais: {'accuracy': 0.7118, 'precision': 0.7151146023114485, 'recall': 0.7118, 'f1_score': 0.709075263961915}\n"
          ]
        }
      ]
    },
    {
      "cell_type": "markdown",
      "source": [
        "## Experimento 4: ajustando learning rate"
      ],
      "metadata": {
        "id": "5ImXvZlsKb2A"
      }
    },
    {
      "cell_type": "markdown",
      "source": [
        "### Objetivo: testar lr=0.01 e lr=0.0001, compreender sensibilidade."
      ],
      "metadata": {
        "id": "ED0VCn_TKgV5"
      }
    },
    {
      "cell_type": "code",
      "source": [
        "for lr in [0.01, 0.001, 0.0001]:\n",
        "    print(f\"\\n>>> Treinando com lr = {lr}\")\n",
        "    model = CNNBase(dropout_p=0.0).to(device)\n",
        "    optimizer = torch.optim.Adam(model.parameters(), lr=lr)\n",
        "    for epoch in range(5):  # 5 épocas cada\n",
        "        loss = train_epoch(model, train_loader, optimizer, criterion)\n",
        "    trues, preds = eval_model(model, test_loader)\n",
        "    print(\"Acc:\", get_scores(trues,preds)[\"accuracy\"])"
      ],
      "metadata": {
        "colab": {
          "base_uri": "https://localhost:8080/"
        },
        "id": "rdd1W6kQKhSC",
        "outputId": "5e680766-cb0d-4dd7-d572-1e648ddb9ad1"
      },
      "execution_count": null,
      "outputs": [
        {
          "output_type": "stream",
          "name": "stdout",
          "text": [
            "\n",
            ">>> Treinando com lr = 0.01\n",
            "Acc: 0.3877\n",
            "\n",
            ">>> Treinando com lr = 0.001\n",
            "Acc: 0.6789\n",
            "\n",
            ">>> Treinando com lr = 0.0001\n",
            "Acc: 0.5631\n"
          ]
        }
      ]
    },
    {
      "cell_type": "markdown",
      "source": [
        "### Learning rate muito grande pula mínimos; muito pequeno demora demais."
      ],
      "metadata": {
        "id": "ak6P2ID0Kn-n"
      }
    },
    {
      "cell_type": "markdown",
      "source": [
        "## Comentários"
      ],
      "metadata": {
        "id": "HaNltCjKSt82"
      }
    },
    {
      "cell_type": "markdown",
      "source": [
        "### Experimento 1 (baseline: kernels 3×3, sem dropout, lr=1e‑3)\n",
        "\n",
        "\n",
        "Evolução da loss e acc:\n",
        "* Loss cai de 1.537 → 0.765 em 10 épocas.\n",
        "* Test Accuracy cresce de 56% → 74,4%.\n",
        "\n",
        "Métricas finais:\n",
        "* Accuracy: 74,41%\n",
        "* Precision: 75,28%\n",
        "* Recall: 74,41%\n",
        "* F1‑score: 74,59%\n",
        "\n",
        "A curva suave de loss e a evolução consistente da acc indicam que o modelo está aprendendo sem grande overfitting (gap razoável entre train e test). Serve de boa linha de base.\n",
        "\n",
        "\n",
        "\n"
      ],
      "metadata": {
        "id": "5icskmTjS2ys"
      }
    },
    {
      "cell_type": "markdown",
      "source": [
        "### Experimento 2 (kernel_size=5×5, sem dropout, lr=1e‑3)\n",
        "\n",
        "Evolução: loss inicia maior (1.59) e cai para 0.83; acc final 73,64%.\n",
        "\n",
        "Métricas finais:\n",
        "* Accuracy: 73,64% (–0,77 p.p. vs baseline)\n",
        "* Precision: 73,90%\n",
        "* Recall: 73,64%\n",
        "* F1‑score: 73,47%\n",
        "\n",
        "Filtros 5×5 capturam receptivos maiores, mas nossa base CIFAR é bem variada; a leve queda de desempenho sugere que o ganho de contexto não compensou a maior suavização de detalhes finos e o aumento de parâmetros."
      ],
      "metadata": {
        "id": "5dBY8zIxTm0S"
      }
    },
    {
      "cell_type": "markdown",
      "source": [
        "## Experimento 3 (baseline + Dropout p=0.3, lr=1e‑3, kernel_size=5×5)\n",
        "\n",
        "Evolução: começamos com loss bem alta (1.70) e acc baixa (51,7%), terminando em loss≈1.01 e acc≈71,2%.\n",
        "\n",
        "Métricas finais\n",
        "* Accuracy: 71,18% (–3,23 p.p. vs baseline)\n",
        "* Precision: 71,51%\n",
        "* Recall: 71,18%\n",
        "* F1‑score: 70,91%\n",
        "\n",
        "O dropout introduziu forte regularização, reduzindo overfitting mas também a capacidade de memorizar padrões. A convergência ficou mais lenta (mais épocas seriam necessárias para alcançar sinal similar ao baseline), mas com potencial para generalizar melhor em execuções mais longas ou com menos dados ruidosos."
      ],
      "metadata": {
        "id": "-d52Z7lbHscv"
      }
    },
    {
      "cell_type": "markdown",
      "source": [
        "## Experimento 4 (tuning de learning rate)\n",
        "\n",
        "| learning\\_rate | Test Accuracy |\n",
        "| -------------: | ------------: |\n",
        "|       **0.01** |        38,77% |\n",
        "|      **0.001** |        67,89% |\n",
        "|     **0.0001** |        56,31% |\n",
        "\n",
        "* lr = 0.01: valor alto demais faz o otimizador “pular” mínimos, resultando em quase aleatoriedade (∼38% no CIFAR‑10).\n",
        "\n",
        "* lr = 0.001: nosso valor padrão, encontra bom trade‑off entre convergência rápida e estabilidade.\n",
        "\n",
        "* lr = 0.0001: muito pequeno; treina de forma estável, mas converge devagar, ficando preso em regiões de perda relativamente alta.\n"
      ],
      "metadata": {
        "id": "UKYBL4b0IvCZ"
      }
    },
    {
      "cell_type": "markdown",
      "source": [
        "## Comparativo Geral\n",
        "\n",
        "Melhor resultado bruto: Experimento 1 (74,4% de acc).\n",
        "\n",
        "Impacto do kernel 5×5: pequena perda de ~0,8 p.p., mostra que nem sempre filtros maiores ajudam.\n",
        "\n",
        "Efeito do dropout: regularização forte reduziu a acc inicial, mas pode prevenir overfitting em treinamento mais longo ou redes maiores.\n",
        "\n",
        "Sensibilidade ao LR: o hiper‑parâmetro mais crítico — excesso e escassez de passo quebram a aprendizagem.\n"
      ],
      "metadata": {
        "id": "eOemAMGwI-wu"
      }
    },
    {
      "cell_type": "markdown",
      "source": [
        "# Bloco de experimentos mais robustos"
      ],
      "metadata": {
        "id": "pgSOeGZmKUyT"
      }
    },
    {
      "cell_type": "markdown",
      "source": [
        "## Experimento 5: combinação de ajustes + split train/val + early stopping"
      ],
      "metadata": {
        "id": "jI5w3ciCKdCf"
      }
    },
    {
      "cell_type": "markdown",
      "source": [
        "### Objetivos:\n",
        "\n",
        "Usar kernel 3×3, dropout p=0.15 e lr=1e‑3\n",
        "\n",
        "Dividir 90% train / 10% val para monitorar over‑/under‑fitting\n",
        "\n",
        "Early stopping no val loss\n",
        "\n",
        "Só avaliar o test set após escolher o melhor modelo via validação"
      ],
      "metadata": {
        "id": "VUOsRyYrKysG"
      }
    },
    {
      "cell_type": "code",
      "source": [
        "from torch.utils.data import random_split\n",
        "from sklearn import metrics\n",
        "\n",
        "n_total = len(train_dataset)\n",
        "n_val   = int(0.1 * n_total)\n",
        "n_train = n_total - n_val\n",
        "\n",
        "train_sub, val_sub = random_split(train_dataset, [n_train, n_val])\n",
        "\n",
        "train_loader = torch.utils.data.DataLoader(train_sub, batch_size=32, shuffle=True, num_workers=2)\n",
        "val_loader   = torch.utils.data.DataLoader(val_sub,   batch_size=32, shuffle=False, num_workers=2)\n",
        "test_loader  = torch.utils.data.DataLoader(test_dataset, batch_size=32, shuffle=False, num_workers=2)\n",
        "\n",
        "def get_scores(trues, preds):\n",
        "    return {\n",
        "        \"accuracy\": metrics.accuracy_score(trues, preds),\n",
        "        \"precision\": metrics.precision_score(trues, preds, average=\"weighted\"),\n",
        "        \"recall\": metrics.recall_score(trues, preds, average=\"weighted\"),\n",
        "        \"f1_score\": metrics.f1_score(trues, preds, average=\"weighted\")\n",
        "    }"
      ],
      "metadata": {
        "id": "WKGzmeetLArK"
      },
      "execution_count": null,
      "outputs": []
    },
    {
      "cell_type": "code",
      "source": [
        "model = CNNBase(dropout_p=0.15).to(device)\n",
        "opt   = torch.optim.Adam(model.parameters(), lr=1e-3)\n",
        "crit  = nn.CrossEntropyLoss()\n",
        "\n",
        "best_val_loss = float('inf')\n",
        "patience, counter = 5, 0\n",
        "history = {\"train_loss\":[],\"val_loss\":[],\"train_acc\":[],\"val_acc\":[],\n",
        "           \"train_prec\":[],\"val_prec\":[],\"train_rec\":[],\"val_rec\":[],\n",
        "           \"train_f1\":[],\"val_f1\":[]}\n",
        "\n",
        "for epoch in range(30):\n",
        "    # — treino\n",
        "    model.train()\n",
        "    running_loss = 0.0\n",
        "    all_t, all_p = [], []\n",
        "    for imgs, lbls in train_loader:\n",
        "        imgs,lbls = imgs.to(device), lbls.to(device)\n",
        "        opt.zero_grad()\n",
        "        out = model(imgs)\n",
        "        loss = crit(out,lbls)\n",
        "        loss.backward(); opt.step()\n",
        "        running_loss += loss.item()*imgs.size(0)\n",
        "        preds = out.argmax(1)\n",
        "        all_t.extend(lbls.cpu().numpy()); all_p.extend(preds.cpu().numpy())\n",
        "    train_loss = running_loss/len(train_sub)\n",
        "    train_scores = get_scores(all_t, all_p)\n",
        "\n",
        "    # — validação\n",
        "    model.eval()\n",
        "    running_loss = 0.0\n",
        "    all_t, all_p = [], []\n",
        "    with torch.no_grad():\n",
        "        for imgs,lbls in val_loader:\n",
        "            imgs,lbls = imgs.to(device), lbls.to(device)\n",
        "            out = model(imgs)\n",
        "            loss = crit(out,lbls)\n",
        "            running_loss += loss.item()*imgs.size(0)\n",
        "            preds = out.argmax(1)\n",
        "            all_t.extend(lbls.cpu().numpy()); all_p.extend(preds.cpu().numpy())\n",
        "    val_loss = running_loss/len(val_sub)\n",
        "    val_scores = get_scores(all_t, all_p)\n",
        "\n",
        "    # — salvar histórico\n",
        "    history[\"train_loss\"].append(train_loss); history[\"val_loss\"].append(val_loss)\n",
        "    history[\"train_acc\"].append(train_scores[\"accuracy\"]); history[\"val_acc\"].append(val_scores[\"accuracy\"])\n",
        "    history[\"train_prec\"].append(train_scores[\"precision\"]); history[\"val_prec\"].append(val_scores[\"precision\"])\n",
        "    history[\"train_rec\"].append(train_scores[\"recall\"]); history[\"val_rec\"].append(val_scores[\"recall\"])\n",
        "    history[\"train_f1\"].append(train_scores[\"f1_score\"]); history[\"val_f1\"].append(val_scores[\"f1_score\"])\n",
        "\n",
        "    print(f\"Ep{epoch+1}: \"\n",
        "          f\"tr_loss={train_loss:.3f}, val_loss={val_loss:.3f} — \"\n",
        "          f\"tr_acc={train_scores['accuracy']:.3f}, val_acc={val_scores['accuracy']:.3f}\")\n",
        "\n",
        "    # — early stopping via val_loss\n",
        "    if val_loss < best_val_loss:\n",
        "        best_val_loss, counter = val_loss, 0\n",
        "        torch.save(model.state_dict(), 'best_combined.pth')\n",
        "    else:\n",
        "        counter += 1\n",
        "        if counter >= patience:\n",
        "            print(\"⏸️ Early stopping!\")\n",
        "            break\n"
      ],
      "metadata": {
        "colab": {
          "base_uri": "https://localhost:8080/"
        },
        "id": "9ENDR4OaLQef",
        "outputId": "31e81db0-fb64-48e9-c647-2533c6fee24f"
      },
      "execution_count": null,
      "outputs": [
        {
          "output_type": "stream",
          "name": "stdout",
          "text": [
            "Ep1: tr_loss=1.632, val_loss=1.362 — tr_acc=0.398, val_acc=0.499\n",
            "Ep2: tr_loss=1.339, val_loss=1.152 — tr_acc=0.515, val_acc=0.588\n",
            "Ep3: tr_loss=1.195, val_loss=1.048 — tr_acc=0.574, val_acc=0.626\n",
            "Ep4: tr_loss=1.108, val_loss=1.020 — tr_acc=0.607, val_acc=0.641\n",
            "Ep5: tr_loss=1.056, val_loss=0.958 — tr_acc=0.627, val_acc=0.657\n",
            "Ep6: tr_loss=1.016, val_loss=0.973 — tr_acc=0.644, val_acc=0.661\n",
            "Ep7: tr_loss=0.992, val_loss=0.894 — tr_acc=0.652, val_acc=0.679\n",
            "Ep8: tr_loss=0.968, val_loss=0.908 — tr_acc=0.660, val_acc=0.681\n",
            "Ep9: tr_loss=0.942, val_loss=0.839 — tr_acc=0.670, val_acc=0.701\n",
            "Ep10: tr_loss=0.926, val_loss=0.845 — tr_acc=0.675, val_acc=0.696\n",
            "Ep11: tr_loss=0.904, val_loss=0.837 — tr_acc=0.682, val_acc=0.706\n",
            "Ep12: tr_loss=0.884, val_loss=0.802 — tr_acc=0.692, val_acc=0.714\n",
            "Ep13: tr_loss=0.880, val_loss=0.808 — tr_acc=0.694, val_acc=0.715\n",
            "Ep14: tr_loss=0.863, val_loss=0.795 — tr_acc=0.698, val_acc=0.719\n",
            "Ep15: tr_loss=0.852, val_loss=0.791 — tr_acc=0.704, val_acc=0.723\n",
            "Ep16: tr_loss=0.845, val_loss=0.809 — tr_acc=0.705, val_acc=0.717\n",
            "Ep17: tr_loss=0.837, val_loss=0.767 — tr_acc=0.709, val_acc=0.729\n",
            "Ep18: tr_loss=0.819, val_loss=0.797 — tr_acc=0.713, val_acc=0.724\n",
            "Ep19: tr_loss=0.818, val_loss=0.772 — tr_acc=0.715, val_acc=0.725\n",
            "Ep20: tr_loss=0.803, val_loss=0.752 — tr_acc=0.719, val_acc=0.736\n",
            "Ep21: tr_loss=0.795, val_loss=0.769 — tr_acc=0.723, val_acc=0.735\n",
            "Ep22: tr_loss=0.795, val_loss=0.739 — tr_acc=0.724, val_acc=0.742\n",
            "Ep23: tr_loss=0.787, val_loss=0.756 — tr_acc=0.724, val_acc=0.738\n",
            "Ep24: tr_loss=0.784, val_loss=0.753 — tr_acc=0.727, val_acc=0.734\n",
            "Ep25: tr_loss=0.777, val_loss=0.751 — tr_acc=0.730, val_acc=0.738\n",
            "Ep26: tr_loss=0.776, val_loss=0.727 — tr_acc=0.731, val_acc=0.744\n",
            "Ep27: tr_loss=0.772, val_loss=0.735 — tr_acc=0.733, val_acc=0.740\n",
            "Ep28: tr_loss=0.762, val_loss=0.727 — tr_acc=0.735, val_acc=0.750\n",
            "Ep29: tr_loss=0.762, val_loss=0.707 — tr_acc=0.736, val_acc=0.751\n",
            "Ep30: tr_loss=0.759, val_loss=0.717 — tr_acc=0.739, val_acc=0.753\n"
          ]
        }
      ]
    },
    {
      "cell_type": "code",
      "source": [
        "import matplotlib.pyplot as plt\n",
        "\n",
        "epochs = range(1, len(history[\"train_loss\"])+1)\n",
        "\n",
        "fig, axes = plt.subplots(2, 2, figsize=(12,10))\n",
        "\n",
        "# Loss\n",
        "axes[0,0].plot(epochs, history[\"train_loss\"], label=\"train_loss\")\n",
        "axes[0,0].plot(epochs, history[\"val_loss\"],   label=\"val_loss\")\n",
        "axes[0,0].set_title(\"Loss\")\n",
        "axes[0,0].legend()\n",
        "\n",
        "# Accuracy\n",
        "axes[0,1].plot(epochs, history[\"train_acc\"], label=\"train_acc\")\n",
        "axes[0,1].plot(epochs, history[\"val_acc\"],   label=\"val_acc\")\n",
        "axes[0,1].set_title(\"Accuracy\")\n",
        "axes[0,1].legend()\n",
        "\n",
        "# Precision\n",
        "axes[1,0].plot(epochs, history[\"train_prec\"], label=\"train_precision\")\n",
        "axes[1,0].plot(epochs, history[\"val_prec\"],   label=\"val_precision\")\n",
        "axes[1,0].set_title(\"Precision\")\n",
        "axes[1,0].legend()\n",
        "\n",
        "# Recall / F1\n",
        "axes[1,1].plot(epochs, history[\"train_rec\"], label=\"train_recall\")\n",
        "axes[1,1].plot(epochs, history[\"val_rec\"],   label=\"val_recall\")\n",
        "axes[1,1].plot(epochs, history[\"train_f1\"],  '--', label=\"train_f1\")\n",
        "axes[1,1].plot(epochs, history[\"val_f1\"],    '--', label=\"val_f1\")\n",
        "axes[1,1].set_title(\"Recall & F1\")\n",
        "axes[1,1].legend()\n",
        "\n",
        "plt.tight_layout()\n",
        "plt.show()\n"
      ],
      "metadata": {
        "colab": {
          "base_uri": "https://localhost:8080/",
          "height": 553
        },
        "id": "kkVqgjlHLwrv",
        "outputId": "3927cdb5-9cf2-4dc7-c2ea-9ed545e7209f"
      },
      "execution_count": null,
      "outputs": [
        {
          "output_type": "display_data",
          "data": {
            "text/plain": [
              "<Figure size 1200x1000 with 4 Axes>"
            ],
            "image/png": "[encoded data removed]"
          },
          "metadata": {}
        }
      ]
    },
    {
      "cell_type": "code",
      "source": [
        "import pandas as pd\n",
        "from IPython.display import display\n",
        "\n",
        "final_train_metrics = {\n",
        "    \"Loss\": history[\"train_loss\"][-1],\n",
        "    \"Accuracy\": history[\"train_acc\"][-1],\n",
        "    \"Precision\": history[\"train_prec\"][-1],\n",
        "    \"Recall\": history[\"train_rec\"][-1],\n",
        "    \"F1-score\": history[\"train_f1\"][-1],\n",
        "}\n",
        "\n",
        "final_val_metrics = {\n",
        "    \"Loss\": history[\"val_loss\"][-1],\n",
        "    \"Accuracy\": history[\"val_acc\"][-1],\n",
        "    \"Precision\": history[\"val_prec\"][-1],\n",
        "    \"Recall\": history[\"val_rec\"][-1],\n",
        "    \"F1-score\": history[\"val_f1\"][-1],\n",
        "}\n",
        "\n",
        "df = pd.DataFrame([final_train_metrics, final_val_metrics], index=[\"Train\", \"Validation\"])\n",
        "df = df.round(4)\n",
        "\n",
        "display(df)\n"
      ],
      "metadata": {
        "colab": {
          "base_uri": "https://localhost:8080/",
          "height": 181
        },
        "id": "TqvsGWABwgPz",
        "outputId": "0cc5b619-cbeb-4259-c151-e4c3ba602646"
      },
      "execution_count": null,
      "outputs": [
        {
          "output_type": "display_data",
          "data": {
            "text/plain": [
              "              Loss  Accuracy  Precision  Recall  F1-score\n",
              "Train       0.7590    0.7386     0.7369  0.7386    0.7376\n",
              "Validation  0.7167    0.7534     0.7557  0.7534    0.7534"
            ],
            "text/html": [
              "\n",
              "  <div id=\"df-769bcfbb-a671-4d93-bee2-43e719b8d155\" class=\"colab-df-container\">\n",
              "    <div>\n",
              "<style scoped>\n",
              "    .dataframe tbody tr th:only-of-type {\n",
              "        vertical-align: middle;\n",
              "    }\n",
              "\n",
              "    .dataframe tbody tr th {\n",
              "        vertical-align: top;\n",
              "    }\n",
              "\n",
              "    .dataframe thead th {\n",
              "        text-align: right;\n",
              "    }\n",
              "</style>\n",
              "<table border=\"1\" class=\"dataframe\">\n",
              "  <thead>\n",
              "    <tr style=\"text-align: right;\">\n",
              "      <th></th>\n",
              "      <th>Loss</th>\n",
              "      <th>Accuracy</th>\n",
              "      <th>Precision</th>\n",
              "      <th>Recall</th>\n",
              "      <th>F1-score</th>\n",
              "    </tr>\n",
              "  </thead>\n",
              "  <tbody>\n",
              "    <tr>\n",
              "      <th>Train</th>\n",
              "      <td>0.7590</td>\n",
              "      <td>0.7386</td>\n",
              "      <td>0.7369</td>\n",
              "      <td>0.7386</td>\n",
              "      <td>0.7376</td>\n",
              "    </tr>\n",
              "    <tr>\n",
              "      <th>Validation</th>\n",
              "      <td>0.7167</td>\n",
              "      <td>0.7534</td>\n",
              "      <td>0.7557</td>\n",
              "      <td>0.7534</td>\n",
              "      <td>0.7534</td>\n",
              "    </tr>\n",
              "  </tbody>\n",
              "</table>\n",
              "</div>\n",
              "    <div class=\"colab-df-buttons\">\n",
              "\n",
              "  <div class=\"colab-df-container\">\n",
              "    <button class=\"colab-df-convert\" onclick=\"convertToInteractive('df-769bcfbb-a671-4d93-bee2-43e719b8d155')\"\n",
              "            title=\"Convert this dataframe to an interactive table.\"\n",
              "            style=\"display:none;\">\n",
              "\n",
              "  <svg xmlns=\"http://www.w3.org/2000/svg\" height=\"24px\" viewBox=\"0 -960 960 960\">\n",
              "    <path d=\"M120-120v-720h720v720H120Zm60-500h600v-160H180v160Zm220 220h160v-160H400v160Zm0 220h160v-160H400v160ZM180-400h160v-160H180v160Zm440 0h160v-160H620v160ZM180-180h160v-160H180v160Zm440 0h160v-160H620v160Z\"/>\n",
              "  </svg>\n",
              "    </button>\n",
              "\n",
              "  <style>\n",
              "    .colab-df-container {\n",
              "      display:flex;\n",
              "      gap: 12px;\n",
              "    }\n",
              "\n",
              "    .colab-df-convert {\n",
              "      background-color: #E8F0FE;\n",
              "      border: none;\n",
              "      border-radius: 50%;\n",
              "      cursor: pointer;\n",
              "      display: none;\n",
              "      fill: #1967D2;\n",
              "      height: 32px;\n",
              "      padding: 0 0 0 0;\n",
              "      width: 32px;\n",
              "    }\n",
              "\n",
              "    .colab-df-convert:hover {\n",
              "      background-color: #E2EBFA;\n",
              "      box-shadow: 0px 1px 2px rgba(60, 64, 67, 0.3), 0px 1px 3px 1px rgba(60, 64, 67, 0.15);\n",
              "      fill: #174EA6;\n",
              "    }\n",
              "\n",
              "    .colab-df-buttons div {\n",
              "      margin-bottom: 4px;\n",
              "    }\n",
              "\n",
              "    [theme=dark] .colab-df-convert {\n",
              "      background-color: #3B4455;\n",
              "      fill: #D2E3FC;\n",
              "    }\n",
              "\n",
              "    [theme=dark] .colab-df-convert:hover {\n",
              "      background-color: #434B5C;\n",
              "      box-shadow: 0px 1px 3px 1px rgba(0, 0, 0, 0.15);\n",
              "      filter: drop-shadow(0px 1px 2px rgba(0, 0, 0, 0.3));\n",
              "      fill: #FFFFFF;\n",
              "    }\n",
              "  </style>\n",
              "\n",
              "    <script>\n",
              "      const buttonEl =\n",
              "        document.querySelector('#df-769bcfbb-a671-4d93-bee2-43e719b8d155 button.colab-df-convert');\n",
              "      buttonEl.style.display =\n",
              "        google.colab.kernel.accessAllowed ? 'block' : 'none';\n",
              "\n",
              "      async function convertToInteractive(key) {\n",
              "        const element = document.querySelector('#df-769bcfbb-a671-4d93-bee2-43e719b8d155');\n",
              "        const dataTable =\n",
              "          await google.colab.kernel.invokeFunction('convertToInteractive',\n",
              "                                                    [key], {});\n",
              "        if (!dataTable) return;\n",
              "\n",
              "        const docLinkHtml = 'Like what you see? Visit the ' +\n",
              "          '<a target=\"_blank\" href=https://colab.research.google.com/notebooks/data_table.ipynb>data table notebook</a>'\n",
              "          + ' to learn more about interactive tables.';\n",
              "        element.innerHTML = '';\n",
              "        dataTable['output_type'] = 'display_data';\n",
              "        await google.colab.output.renderOutput(dataTable, element);\n",
              "        const docLink = document.createElement('div');\n",
              "        docLink.innerHTML = docLinkHtml;\n",
              "        element.appendChild(docLink);\n",
              "      }\n",
              "    </script>\n",
              "  </div>\n",
              "\n",
              "\n",
              "    <div id=\"df-f6551b33-fe7c-4f30-9841-6ae2872eb9c3\">\n",
              "      <button class=\"colab-df-quickchart\" onclick=\"quickchart('df-f6551b33-fe7c-4f30-9841-6ae2872eb9c3')\"\n",
              "                title=\"Suggest charts\"\n",
              "                style=\"display:none;\">\n",
              "\n",
              "<svg xmlns=\"http://www.w3.org/2000/svg\" height=\"24px\"viewBox=\"0 0 24 24\"\n",
              "     width=\"24px\">\n",
              "    <g>\n",
              "        <path d=\"M19 3H5c-1.1 0-2 .9-2 2v14c0 1.1.9 2 2 2h14c1.1 0 2-.9 2-2V5c0-1.1-.9-2-2-2zM9 17H7v-7h2v7zm4 0h-2V7h2v10zm4 0h-2v-4h2v4z\"/>\n",
              "    </g>\n",
              "</svg>\n",
              "      </button>\n",
              "\n",
              "<style>\n",
              "  .colab-df-quickchart {\n",
              "      --bg-color: #E8F0FE;\n",
              "      --fill-color: #1967D2;\n",
              "      --hover-bg-color: #E2EBFA;\n",
              "      --hover-fill-color: #174EA6;\n",
              "      --disabled-fill-color: #AAA;\n",
              "      --disabled-bg-color: #DDD;\n",
              "  }\n",
              "\n",
              "  [theme=dark] .colab-df-quickchart {\n",
              "      --bg-color: #3B4455;\n",
              "      --fill-color: #D2E3FC;\n",
              "      --hover-bg-color: #434B5C;\n",
              "      --hover-fill-color: #FFFFFF;\n",
              "      --disabled-bg-color: #3B4455;\n",
              "      --disabled-fill-color: #666;\n",
              "  }\n",
              "\n",
              "  .colab-df-quickchart {\n",
              "    background-color: var(--bg-color);\n",
              "    border: none;\n",
              "    border-radius: 50%;\n",
              "    cursor: pointer;\n",
              "    display: none;\n",
              "    fill: var(--fill-color);\n",
              "    height: 32px;\n",
              "    padding: 0;\n",
              "    width: 32px;\n",
              "  }\n",
              "\n",
              "  .colab-df-quickchart:hover {\n",
              "    background-color: var(--hover-bg-color);\n",
              "    box-shadow: 0 1px 2px rgba(60, 64, 67, 0.3), 0 1px 3px 1px rgba(60, 64, 67, 0.15);\n",
              "    fill: var(--button-hover-fill-color);\n",
              "  }\n",
              "\n",
              "  .colab-df-quickchart-complete:disabled,\n",
              "  .colab-df-quickchart-complete:disabled:hover {\n",
              "    background-color: var(--disabled-bg-color);\n",
              "    fill: var(--disabled-fill-color);\n",
              "    box-shadow: none;\n",
              "  }\n",
              "\n",
              "  .colab-df-spinner {\n",
              "    border: 2px solid var(--fill-color);\n",
              "    border-color: transparent;\n",
              "    border-bottom-color: var(--fill-color);\n",
              "    animation:\n",
              "      spin 1s steps(1) infinite;\n",
              "  }\n",
              "\n",
              "  @keyframes spin {\n",
              "    0% {\n",
              "      border-color: transparent;\n",
              "      border-bottom-color: var(--fill-color);\n",
              "      border-left-color: var(--fill-color);\n",
              "    }\n",
              "    20% {\n",
              "      border-color: transparent;\n",
              "      border-left-color: var(--fill-color);\n",
              "      border-top-color: var(--fill-color);\n",
              "    }\n",
              "    30% {\n",
              "      border-color: transparent;\n",
              "      border-left-color: var(--fill-color);\n",
              "      border-top-color: var(--fill-color);\n",
              "      border-right-color: var(--fill-color);\n",
              "    }\n",
              "    40% {\n",
              "      border-color: transparent;\n",
              "      border-right-color: var(--fill-color);\n",
              "      border-top-color: var(--fill-color);\n",
              "    }\n",
              "    60% {\n",
              "      border-color: transparent;\n",
              "      border-right-color: var(--fill-color);\n",
              "    }\n",
              "    80% {\n",
              "      border-color: transparent;\n",
              "      border-right-color: var(--fill-color);\n",
              "      border-bottom-color: var(--fill-color);\n",
              "    }\n",
              "    90% {\n",
              "      border-color: transparent;\n",
              "      border-bottom-color: var(--fill-color);\n",
              "    }\n",
              "  }\n",
              "</style>\n",
              "\n",
              "      <script>\n",
              "        async function quickchart(key) {\n",
              "          const quickchartButtonEl =\n",
              "            document.querySelector('#' + key + ' button');\n",
              "          quickchartButtonEl.disabled = true;  // To prevent multiple clicks.\n",
              "          quickchartButtonEl.classList.add('colab-df-spinner');\n",
              "          try {\n",
              "            const charts = await google.colab.kernel.invokeFunction(\n",
              "                'suggestCharts', [key], {});\n",
              "          } catch (error) {\n",
              "            console.error('Error during call to suggestCharts:', error);\n",
              "          }\n",
              "          quickchartButtonEl.classList.remove('colab-df-spinner');\n",
              "          quickchartButtonEl.classList.add('colab-df-quickchart-complete');\n",
              "        }\n",
              "        (() => {\n",
              "          let quickchartButtonEl =\n",
              "            document.querySelector('#df-f6551b33-fe7c-4f30-9841-6ae2872eb9c3 button');\n",
              "          quickchartButtonEl.style.display =\n",
              "            google.colab.kernel.accessAllowed ? 'block' : 'none';\n",
              "        })();\n",
              "      </script>\n",
              "    </div>\n",
              "\n",
              "  <div id=\"id_bbde4c69-0744-48ac-9716-9b55d9dfd630\">\n",
              "    <style>\n",
              "      .colab-df-generate {\n",
              "        background-color: #E8F0FE;\n",
              "        border: none;\n",
              "        border-radius: 50%;\n",
              "        cursor: pointer;\n",
              "        display: none;\n",
              "        fill: #1967D2;\n",
              "        height: 32px;\n",
              "        padding: 0 0 0 0;\n",
              "        width: 32px;\n",
              "      }\n",
              "\n",
              "      .colab-df-generate:hover {\n",
              "        background-color: #E2EBFA;\n",
              "        box-shadow: 0px 1px 2px rgba(60, 64, 67, 0.3), 0px 1px 3px 1px rgba(60, 64, 67, 0.15);\n",
              "        fill: #174EA6;\n",
              "      }\n",
              "\n",
              "      [theme=dark] .colab-df-generate {\n",
              "        background-color: #3B4455;\n",
              "        fill: #D2E3FC;\n",
              "      }\n",
              "\n",
              "      [theme=dark] .colab-df-generate:hover {\n",
              "        background-color: #434B5C;\n",
              "        box-shadow: 0px 1px 3px 1px rgba(0, 0, 0, 0.15);\n",
              "        filter: drop-shadow(0px 1px 2px rgba(0, 0, 0, 0.3));\n",
              "        fill: #FFFFFF;\n",
              "      }\n",
              "    </style>\n",
              "    <button class=\"colab-df-generate\" onclick=\"generateWithVariable('df')\"\n",
              "            title=\"Generate code using this dataframe.\"\n",
              "            style=\"display:none;\">\n",
              "\n",
              "  <svg xmlns=\"http://www.w3.org/2000/svg\" height=\"24px\"viewBox=\"0 0 24 24\"\n",
              "       width=\"24px\">\n",
              "    <path d=\"M7,19H8.4L18.45,9,17,7.55,7,17.6ZM5,21V16.75L18.45,3.32a2,2,0,0,1,2.83,0l1.4,1.43a1.91,1.91,0,0,1,.58,1.4,1.91,1.91,0,0,1-.58,1.4L9.25,21ZM18.45,9,17,7.55Zm-12,3A5.31,5.31,0,0,0,4.9,8.1,5.31,5.31,0,0,0,1,6.5,5.31,5.31,0,0,0,4.9,4.9,5.31,5.31,0,0,0,6.5,1,5.31,5.31,0,0,0,8.1,4.9,5.31,5.31,0,0,0,12,6.5,5.46,5.46,0,0,0,6.5,12Z\"/>\n",
              "  </svg>\n",
              "    </button>\n",
              "    <script>\n",
              "      (() => {\n",
              "      const buttonEl =\n",
              "        document.querySelector('#id_bbde4c69-0744-48ac-9716-9b55d9dfd630 button.colab-df-generate');\n",
              "      buttonEl.style.display =\n",
              "        google.colab.kernel.accessAllowed ? 'block' : 'none';\n",
              "\n",
              "      buttonEl.onclick = () => {\n",
              "        google.colab.notebook.generateWithVariable('df');\n",
              "      }\n",
              "      })();\n",
              "    </script>\n",
              "  </div>\n",
              "\n",
              "    </div>\n",
              "  </div>\n"
            ],
            "application/vnd.google.colaboratory.intrinsic+json": {
              "type": "dataframe",
              "variable_name": "df",
              "summary": "{\n  \"name\": \"df\",\n  \"rows\": 2,\n  \"fields\": [\n    {\n      \"column\": \"Loss\",\n      \"properties\": {\n        \"dtype\": \"number\",\n        \"std\": 0.029910616844190965,\n        \"min\": 0.7167,\n        \"max\": 0.759,\n        \"num_unique_values\": 2,\n        \"samples\": [\n          0.7167,\n          0.759\n        ],\n        \"semantic_type\": \"\",\n        \"description\": \"\"\n      }\n    },\n    {\n      \"column\": \"Accuracy\",\n      \"properties\": {\n        \"dtype\": \"number\",\n        \"std\": 0.01046518036156085,\n        \"min\": 0.7386,\n        \"max\": 0.7534,\n        \"num_unique_values\": 2,\n        \"samples\": [\n          0.7534,\n          0.7386\n        ],\n        \"semantic_type\": \"\",\n        \"description\": \"\"\n      }\n    },\n    {\n      \"column\": \"Precision\",\n      \"properties\": {\n        \"dtype\": \"number\",\n        \"std\": 0.01329360748630712,\n        \"min\": 0.7369,\n        \"max\": 0.7557,\n        \"num_unique_values\": 2,\n        \"samples\": [\n          0.7557,\n          0.7369\n        ],\n        \"semantic_type\": \"\",\n        \"description\": \"\"\n      }\n    },\n    {\n      \"column\": \"Recall\",\n      \"properties\": {\n        \"dtype\": \"number\",\n        \"std\": 0.01046518036156085,\n        \"min\": 0.7386,\n        \"max\": 0.7534,\n        \"num_unique_values\": 2,\n        \"samples\": [\n          0.7534,\n          0.7386\n        ],\n        \"semantic_type\": \"\",\n        \"description\": \"\"\n      }\n    },\n    {\n      \"column\": \"F1-score\",\n      \"properties\": {\n        \"dtype\": \"number\",\n        \"std\": 0.011172287142747398,\n        \"min\": 0.7376,\n        \"max\": 0.7534,\n        \"num_unique_values\": 2,\n        \"samples\": [\n          0.7534,\n          0.7376\n        ],\n        \"semantic_type\": \"\",\n        \"description\": \"\"\n      }\n    }\n  ]\n}"
            }
          },
          "metadata": {}
        }
      ]
    },
    {
      "cell_type": "code",
      "source": [
        "model = CNNBase(dropout_p=0.15).to(device)\n",
        "model.load_state_dict(torch.load('best_combined.pth'))\n",
        "model.eval()\n",
        "\n",
        "all_t, all_p = [], []\n",
        "with torch.no_grad():\n",
        "    for imgs,lbls in test_loader:\n",
        "        imgs,lbls = imgs.to(device), lbls.to(device)\n",
        "        preds = model(imgs).argmax(1)\n",
        "        all_t.extend(lbls.cpu().numpy()); all_p.extend(preds.cpu().numpy())\n",
        "\n",
        "test_scores = get_scores(all_t, all_p)\n",
        "print(\"✅ Métricas no test set:\", test_scores)\n"
      ],
      "metadata": {
        "colab": {
          "base_uri": "https://localhost:8080/"
        },
        "id": "gBqbppY-MxAH",
        "outputId": "e052a669-9ffe-47db-d56a-1d231ac9c293"
      },
      "execution_count": null,
      "outputs": [
        {
          "output_type": "stream",
          "name": "stdout",
          "text": [
            "✅ Métricas no test set: {'accuracy': 0.7662, 'precision': 0.7670919627529408, 'recall': 0.7662, 'f1_score': 0.764883778561941}\n"
          ]
        }
      ]
    },
    {
      "cell_type": "markdown",
      "source": [
        "## Experimento 6: HPO automática com Optuna (com validação interna)"
      ],
      "metadata": {
        "id": "y0H634O3w_5w"
      }
    },
    {
      "cell_type": "markdown",
      "source": [
        "Objetivos\n",
        "\n",
        "Otimizar por 20 trials: lr, dropout_p, batch_size, kernel_size\n",
        "\n",
        "Cada trial é avaliado em val set (não test)\n",
        "\n",
        "No fim, re-treinar o modelo com melhores hiper‑parâmetros e avaliar no test set"
      ],
      "metadata": {
        "id": "O11XTziwxIpc"
      }
    },
    {
      "cell_type": "code",
      "source": [
        "!pip install optuna\n",
        "\n",
        "import optuna\n",
        "\n",
        "def build_model(trial):\n",
        "    k = trial.suggest_categorical(\"kernel\", [3,5])\n",
        "    d = trial.suggest_float(\"dropout\", 0.0, 0.4)\n",
        "    return CNN_K5(dropout_p=d) if k==5 else CNNBase(dropout_p=d)\n",
        "\n",
        "def objective(trial):\n",
        "    # hiperpars\n",
        "    lr = trial.suggest_loguniform(\"lr\", 1e-4, 1e-2)\n",
        "    bs = trial.suggest_categorical(\"bs\", [32,64])\n",
        "\n",
        "    # DataLoaders dinâmicos\n",
        "    tl = torch.utils.data.DataLoader(train_sub, batch_size=bs, shuffle=True)\n",
        "    vl = torch.utils.data.DataLoader(val_sub,   batch_size=bs, shuffle=False)\n",
        "\n",
        "    model = build_model(trial).to(device)\n",
        "    opt   = torch.optim.Adam(model.parameters(), lr=lr)\n",
        "    crit  = nn.CrossEntropyLoss()\n",
        "\n",
        "    # treino rápido\n",
        "    for _ in range(5):\n",
        "        model.train()\n",
        "        for imgs,lbls in tl:\n",
        "            imgs,lbls = imgs.to(device), lbls.to(device)\n",
        "            opt.zero_grad()\n",
        "            opt.step()\n",
        "\n",
        "    # avaliação no val set\n",
        "    all_t, all_p = [], []\n",
        "    model.eval()\n",
        "    with torch.no_grad():\n",
        "        for imgs,lbls in vl:\n",
        "            imgs,lbls = imgs.to(device), lbls.to(device)\n",
        "            preds = model(imgs).argmax(1)\n",
        "            all_t.extend(lbls.cpu().numpy()); all_p.extend(preds.cpu().numpy())\n",
        "    return metrics.accuracy_score(all_t, all_p)\n",
        "\n",
        "study = optuna.create_study(direction=\"maximize\")\n",
        "study.optimize(objective, n_trials=20)\n",
        "\n",
        "print(\"🏆 Best params:\", study.best_trial.params)\n"
      ],
      "metadata": {
        "colab": {
          "base_uri": "https://localhost:8080/"
        },
        "id": "Ix78YWsLxZBd",
        "outputId": "c859d847-1a15-4dac-8699-b8df9348b60a"
      },
      "execution_count": null,
      "outputs": [
        {
          "output_type": "stream",
          "name": "stdout",
          "text": [
            "Requirement already satisfied: optuna in /usr/local/lib/python3.11/dist-packages (4.3.0)\n",
            "Requirement already satisfied: alembic>=1.5.0 in /usr/local/lib/python3.11/dist-packages (from optuna) (1.16.1)\n",
            "Requirement already satisfied: colorlog in /usr/local/lib/python3.11/dist-packages (from optuna) (6.9.0)\n",
            "Requirement already satisfied: numpy in /usr/local/lib/python3.11/dist-packages (from optuna) (2.0.2)\n",
            "Requirement already satisfied: packaging>=20.0 in /usr/local/lib/python3.11/dist-packages (from optuna) (24.2)\n",
            "Requirement already satisfied: sqlalchemy>=1.4.2 in /usr/local/lib/python3.11/dist-packages (from optuna) (2.0.41)\n",
            "Requirement already satisfied: tqdm in /usr/local/lib/python3.11/dist-packages (from optuna) (4.67.1)\n",
            "Requirement already satisfied: PyYAML in /usr/local/lib/python3.11/dist-packages (from optuna) (6.0.2)\n",
            "Requirement already satisfied: Mako in /usr/lib/python3/dist-packages (from alembic>=1.5.0->optuna) (1.1.3)\n",
            "Requirement already satisfied: typing-extensions>=4.12 in /usr/local/lib/python3.11/dist-packages (from alembic>=1.5.0->optuna) (4.14.0)\n",
            "Requirement already satisfied: greenlet>=1 in /usr/local/lib/python3.11/dist-packages (from sqlalchemy>=1.4.2->optuna) (3.2.2)\n"
          ]
        },
        {
          "output_type": "stream",
          "name": "stderr",
          "text": [
            "[I 2025-06-15 22:48:21,845] A new study created in memory with name: no-name-e4fdeeaf-caab-4b43-9e9a-1e3b4a59e30b\n",
            "<ipython-input-13-3218124243>:12: FutureWarning: suggest_loguniform has been deprecated in v3.0.0. This feature will be removed in v6.0.0. See https://github.com/optuna/optuna/releases/tag/v3.0.0. Use suggest_float(..., log=True) instead.\n",
            "  lr = trial.suggest_loguniform(\"lr\", 1e-4, 1e-2)\n",
            "[I 2025-06-15 22:49:50,606] Trial 0 finished with value: 0.0962 and parameters: {'lr': 0.00230174468346247, 'bs': 32, 'kernel': 5, 'dropout': 0.06129800263793275}. Best is trial 0 with value: 0.0962.\n",
            "<ipython-input-13-3218124243>:12: FutureWarning: suggest_loguniform has been deprecated in v3.0.0. This feature will be removed in v6.0.0. See https://github.com/optuna/optuna/releases/tag/v3.0.0. Use suggest_float(..., log=True) instead.\n",
            "  lr = trial.suggest_loguniform(\"lr\", 1e-4, 1e-2)\n",
            "[I 2025-06-15 22:51:18,154] Trial 1 finished with value: 0.0962 and parameters: {'lr': 0.0002931314493248552, 'bs': 64, 'kernel': 3, 'dropout': 0.35744008604879723}. Best is trial 0 with value: 0.0962.\n",
            "<ipython-input-13-3218124243>:12: FutureWarning: suggest_loguniform has been deprecated in v3.0.0. This feature will be removed in v6.0.0. See https://github.com/optuna/optuna/releases/tag/v3.0.0. Use suggest_float(..., log=True) instead.\n",
            "  lr = trial.suggest_loguniform(\"lr\", 1e-4, 1e-2)\n",
            "[I 2025-06-15 22:52:46,054] Trial 2 finished with value: 0.0966 and parameters: {'lr': 0.005978492279163031, 'bs': 64, 'kernel': 5, 'dropout': 0.25928966372508855}. Best is trial 2 with value: 0.0966.\n",
            "<ipython-input-13-3218124243>:12: FutureWarning: suggest_loguniform has been deprecated in v3.0.0. This feature will be removed in v6.0.0. See https://github.com/optuna/optuna/releases/tag/v3.0.0. Use suggest_float(..., log=True) instead.\n",
            "  lr = trial.suggest_loguniform(\"lr\", 1e-4, 1e-2)\n",
            "[I 2025-06-15 22:54:16,214] Trial 3 finished with value: 0.0924 and parameters: {'lr': 0.003013697816371058, 'bs': 32, 'kernel': 3, 'dropout': 0.3676492817449155}. Best is trial 2 with value: 0.0966.\n",
            "<ipython-input-13-3218124243>:12: FutureWarning: suggest_loguniform has been deprecated in v3.0.0. This feature will be removed in v6.0.0. See https://github.com/optuna/optuna/releases/tag/v3.0.0. Use suggest_float(..., log=True) instead.\n",
            "  lr = trial.suggest_loguniform(\"lr\", 1e-4, 1e-2)\n",
            "[I 2025-06-15 22:55:47,777] Trial 4 finished with value: 0.105 and parameters: {'lr': 0.00013455194639108053, 'bs': 64, 'kernel': 3, 'dropout': 0.15444925627518935}. Best is trial 4 with value: 0.105.\n",
            "<ipython-input-13-3218124243>:12: FutureWarning: suggest_loguniform has been deprecated in v3.0.0. This feature will be removed in v6.0.0. See https://github.com/optuna/optuna/releases/tag/v3.0.0. Use suggest_float(..., log=True) instead.\n",
            "  lr = trial.suggest_loguniform(\"lr\", 1e-4, 1e-2)\n",
            "[I 2025-06-15 22:57:17,046] Trial 5 finished with value: 0.0962 and parameters: {'lr': 0.00014500245376127902, 'bs': 32, 'kernel': 5, 'dropout': 0.20296583799562995}. Best is trial 4 with value: 0.105.\n",
            "<ipython-input-13-3218124243>:12: FutureWarning: suggest_loguniform has been deprecated in v3.0.0. This feature will be removed in v6.0.0. See https://github.com/optuna/optuna/releases/tag/v3.0.0. Use suggest_float(..., log=True) instead.\n",
            "  lr = trial.suggest_loguniform(\"lr\", 1e-4, 1e-2)\n",
            "[I 2025-06-15 22:58:45,719] Trial 6 finished with value: 0.093 and parameters: {'lr': 0.00012289646569921248, 'bs': 32, 'kernel': 3, 'dropout': 0.07803209649216059}. Best is trial 4 with value: 0.105.\n",
            "<ipython-input-13-3218124243>:12: FutureWarning: suggest_loguniform has been deprecated in v3.0.0. This feature will be removed in v6.0.0. See https://github.com/optuna/optuna/releases/tag/v3.0.0. Use suggest_float(..., log=True) instead.\n",
            "  lr = trial.suggest_loguniform(\"lr\", 1e-4, 1e-2)\n",
            "[I 2025-06-15 23:00:15,419] Trial 7 finished with value: 0.0986 and parameters: {'lr': 0.0008512271239241106, 'bs': 32, 'kernel': 5, 'dropout': 0.006906590495041343}. Best is trial 4 with value: 0.105.\n",
            "<ipython-input-13-3218124243>:12: FutureWarning: suggest_loguniform has been deprecated in v3.0.0. This feature will be removed in v6.0.0. See https://github.com/optuna/optuna/releases/tag/v3.0.0. Use suggest_float(..., log=True) instead.\n",
            "  lr = trial.suggest_loguniform(\"lr\", 1e-4, 1e-2)\n",
            "[I 2025-06-15 23:01:44,874] Trial 8 finished with value: 0.1018 and parameters: {'lr': 0.0017855511165776748, 'bs': 32, 'kernel': 5, 'dropout': 0.12224178550051189}. Best is trial 4 with value: 0.105.\n",
            "<ipython-input-13-3218124243>:12: FutureWarning: suggest_loguniform has been deprecated in v3.0.0. This feature will be removed in v6.0.0. See https://github.com/optuna/optuna/releases/tag/v3.0.0. Use suggest_float(..., log=True) instead.\n",
            "  lr = trial.suggest_loguniform(\"lr\", 1e-4, 1e-2)\n",
            "[I 2025-06-15 23:03:11,610] Trial 9 finished with value: 0.101 and parameters: {'lr': 0.000355331050376143, 'bs': 64, 'kernel': 3, 'dropout': 0.11424853025698556}. Best is trial 4 with value: 0.105.\n",
            "<ipython-input-13-3218124243>:12: FutureWarning: suggest_loguniform has been deprecated in v3.0.0. This feature will be removed in v6.0.0. See https://github.com/optuna/optuna/releases/tag/v3.0.0. Use suggest_float(..., log=True) instead.\n",
            "  lr = trial.suggest_loguniform(\"lr\", 1e-4, 1e-2)\n",
            "[I 2025-06-15 23:04:39,037] Trial 10 finished with value: 0.105 and parameters: {'lr': 0.0005839660131448188, 'bs': 64, 'kernel': 3, 'dropout': 0.27381523405335684}. Best is trial 4 with value: 0.105.\n",
            "<ipython-input-13-3218124243>:12: FutureWarning: suggest_loguniform has been deprecated in v3.0.0. This feature will be removed in v6.0.0. See https://github.com/optuna/optuna/releases/tag/v3.0.0. Use suggest_float(..., log=True) instead.\n",
            "  lr = trial.suggest_loguniform(\"lr\", 1e-4, 1e-2)\n",
            "[I 2025-06-15 23:06:07,478] Trial 11 finished with value: 0.0992 and parameters: {'lr': 0.0005335545111441432, 'bs': 64, 'kernel': 3, 'dropout': 0.26917925743946153}. Best is trial 4 with value: 0.105.\n",
            "<ipython-input-13-3218124243>:12: FutureWarning: suggest_loguniform has been deprecated in v3.0.0. This feature will be removed in v6.0.0. See https://github.com/optuna/optuna/releases/tag/v3.0.0. Use suggest_float(..., log=True) instead.\n",
            "  lr = trial.suggest_loguniform(\"lr\", 1e-4, 1e-2)\n",
            "[I 2025-06-15 23:07:36,366] Trial 12 finished with value: 0.0936 and parameters: {'lr': 0.00020005394104431596, 'bs': 64, 'kernel': 3, 'dropout': 0.20666576137560255}. Best is trial 4 with value: 0.105.\n",
            "<ipython-input-13-3218124243>:12: FutureWarning: suggest_loguniform has been deprecated in v3.0.0. This feature will be removed in v6.0.0. See https://github.com/optuna/optuna/releases/tag/v3.0.0. Use suggest_float(..., log=True) instead.\n",
            "  lr = trial.suggest_loguniform(\"lr\", 1e-4, 1e-2)\n",
            "[I 2025-06-15 23:09:03,836] Trial 13 finished with value: 0.1054 and parameters: {'lr': 0.0009085686658641642, 'bs': 64, 'kernel': 3, 'dropout': 0.2772223757272956}. Best is trial 13 with value: 0.1054.\n",
            "<ipython-input-13-3218124243>:12: FutureWarning: suggest_loguniform has been deprecated in v3.0.0. This feature will be removed in v6.0.0. See https://github.com/optuna/optuna/releases/tag/v3.0.0. Use suggest_float(..., log=True) instead.\n",
            "  lr = trial.suggest_loguniform(\"lr\", 1e-4, 1e-2)\n",
            "[I 2025-06-15 23:10:31,075] Trial 14 finished with value: 0.0996 and parameters: {'lr': 0.009385997921439319, 'bs': 64, 'kernel': 3, 'dropout': 0.31700313736410424}. Best is trial 13 with value: 0.1054.\n",
            "<ipython-input-13-3218124243>:12: FutureWarning: suggest_loguniform has been deprecated in v3.0.0. This feature will be removed in v6.0.0. See https://github.com/optuna/optuna/releases/tag/v3.0.0. Use suggest_float(..., log=True) instead.\n",
            "  lr = trial.suggest_loguniform(\"lr\", 1e-4, 1e-2)\n",
            "[I 2025-06-15 23:11:57,806] Trial 15 finished with value: 0.0926 and parameters: {'lr': 0.0012330272669778565, 'bs': 64, 'kernel': 3, 'dropout': 0.17474158977044285}. Best is trial 13 with value: 0.1054.\n",
            "<ipython-input-13-3218124243>:12: FutureWarning: suggest_loguniform has been deprecated in v3.0.0. This feature will be removed in v6.0.0. See https://github.com/optuna/optuna/releases/tag/v3.0.0. Use suggest_float(..., log=True) instead.\n",
            "  lr = trial.suggest_loguniform(\"lr\", 1e-4, 1e-2)\n",
            "[I 2025-06-15 23:13:24,063] Trial 16 finished with value: 0.0962 and parameters: {'lr': 0.003674927502170453, 'bs': 64, 'kernel': 3, 'dropout': 0.16375971187396732}. Best is trial 13 with value: 0.1054.\n",
            "<ipython-input-13-3218124243>:12: FutureWarning: suggest_loguniform has been deprecated in v3.0.0. This feature will be removed in v6.0.0. See https://github.com/optuna/optuna/releases/tag/v3.0.0. Use suggest_float(..., log=True) instead.\n",
            "  lr = trial.suggest_loguniform(\"lr\", 1e-4, 1e-2)\n",
            "[I 2025-06-15 23:14:50,888] Trial 17 finished with value: 0.1052 and parameters: {'lr': 0.0002525102365269447, 'bs': 64, 'kernel': 3, 'dropout': 0.22784226207537353}. Best is trial 13 with value: 0.1054.\n",
            "<ipython-input-13-3218124243>:12: FutureWarning: suggest_loguniform has been deprecated in v3.0.0. This feature will be removed in v6.0.0. See https://github.com/optuna/optuna/releases/tag/v3.0.0. Use suggest_float(..., log=True) instead.\n",
            "  lr = trial.suggest_loguniform(\"lr\", 1e-4, 1e-2)\n",
            "[I 2025-06-15 23:16:18,569] Trial 18 finished with value: 0.1012 and parameters: {'lr': 0.001098074041188684, 'bs': 64, 'kernel': 3, 'dropout': 0.22662442582075132}. Best is trial 13 with value: 0.1054.\n",
            "<ipython-input-13-3218124243>:12: FutureWarning: suggest_loguniform has been deprecated in v3.0.0. This feature will be removed in v6.0.0. See https://github.com/optuna/optuna/releases/tag/v3.0.0. Use suggest_float(..., log=True) instead.\n",
            "  lr = trial.suggest_loguniform(\"lr\", 1e-4, 1e-2)\n",
            "[I 2025-06-15 23:17:45,598] Trial 19 finished with value: 0.101 and parameters: {'lr': 0.000258457724232774, 'bs': 64, 'kernel': 3, 'dropout': 0.3126801999741968}. Best is trial 13 with value: 0.1054.\n"
          ]
        },
        {
          "output_type": "stream",
          "name": "stdout",
          "text": [
            "🏆 Best params: {'lr': 0.0009085686658641642, 'bs': 64, 'kernel': 3, 'dropout': 0.2772223757272956}\n"
          ]
        }
      ]
    },
    {
      "cell_type": "code",
      "source": [
        "from math import inf\n",
        "\n",
        "# 1) Recuperar melhores hiperpars\n",
        "best = study.best_trial.params\n",
        "lr   = best[\"lr\"]\n",
        "bs   = best[\"bs\"]\n",
        "kernel = best.get(\"kernel\", 3)      # nome pode variar; ajuste conforme seu study\n",
        "dropout = best.get(\"dropout\", 0.0)\n",
        "\n",
        "# 2) Reconstruir modelo e loaders\n",
        "model = (CNN_K5(dropout_p=dropout) if kernel==5 else CNNBase(dropout_p=dropout)).to(device)\n",
        "optimizer = torch.optim.Adam(model.parameters(), lr=lr)\n",
        "criterion = nn.CrossEntropyLoss()\n",
        "\n",
        "train_loader = torch.utils.data.DataLoader(train_sub, batch_size=bs, shuffle=True,  num_workers=2)\n",
        "val_loader   = torch.utils.data.DataLoader(val_sub,   batch_size=bs, shuffle=False, num_workers=2)\n",
        "test_loader  = torch.utils.data.DataLoader(test_dataset, batch_size=bs, shuffle=False, num_workers=2)\n",
        "\n",
        "best_val_loss = inf\n",
        "patience, counter = 5, 0\n",
        "\n",
        "# 4) Loop de retrain\n",
        "for epoch in range(1, 21):\n",
        "    model.train()\n",
        "    running_train_loss = 0.0\n",
        "    for imgs, lbls in train_loader:\n",
        "        imgs, lbls = imgs.to(device), lbls.to(device)\n",
        "        optimizer.zero_grad()\n",
        "        out = model(imgs)\n",
        "        loss = criterion(out, lbls)\n",
        "        loss.backward()\n",
        "        optimizer.step()\n",
        "        running_train_loss += loss.item() * imgs.size(0)\n",
        "    train_loss = running_train_loss / len(train_sub)\n",
        "\n",
        "    # --- Validação ---\n",
        "    model.eval()\n",
        "    running_val_loss = 0.0\n",
        "    all_t, all_p = [], []\n",
        "    with torch.no_grad():\n",
        "        for imgs, lbls in val_loader:\n",
        "            imgs, lbls = imgs.to(device), lbls.to(device)\n",
        "            out = model(imgs)\n",
        "            loss = criterion(out, lbls)\n",
        "            running_val_loss += loss.item() * imgs.size(0)\n",
        "            preds = out.argmax(1)\n",
        "            all_t.extend(lbls.cpu().numpy())\n",
        "            all_p.extend(preds.cpu().numpy())\n",
        "    val_loss = running_val_loss / len(val_sub)\n",
        "    val_scores = get_scores(all_t, all_p)\n",
        "\n",
        "    print(f\"Ep{epoch:02d} — tr_loss={train_loss:.4f}  val_loss={val_loss:.4f}  \"\n",
        "          f\"val_acc={val_scores['accuracy']:.4f}  \"\n",
        "          f\"val_prec={val_scores['precision']:.4f}  \"\n",
        "          f\"val_rec={val_scores['recall']:.4f}  \"\n",
        "          f\"val_f1={val_scores['f1_score']:.4f}\")\n",
        "\n",
        "    # --- Early stopping ---\n",
        "    if val_loss < best_val_loss:\n",
        "        best_val_loss = val_loss\n",
        "        counter = 0\n",
        "        torch.save(model.state_dict(), 'best_optuna.pth')\n",
        "    else:\n",
        "        counter += 1\n",
        "        if counter >= patience:\n",
        "            print(\"⏸️ Early stopping acionado.\")\n",
        "            break\n",
        "\n",
        "# 5) Avaliação final no Test Set\n",
        "# Carregar melhor modelo salvo\n",
        "model.load_state_dict(torch.load('best_optuna.pth'))\n",
        "model.eval()\n",
        "\n",
        "all_t, all_p = [], []\n",
        "with torch.no_grad():\n",
        "    for imgs, lbls in test_loader:\n",
        "        imgs, lbls = imgs.to(device), lbls.to(device)\n",
        "        preds = model(imgs).argmax(1)\n",
        "        all_t.extend(lbls.cpu().numpy())\n",
        "        all_p.extend(preds.cpu().numpy())\n",
        "\n",
        "test_scores = get_scores(all_t, all_p)\n",
        "print(\"\\n🎯 Métricas no Test Set:\")\n",
        "for k,v in test_scores.items():\n",
        "    print(f\"  {k:>8}: {v:.4f}\")\n"
      ],
      "metadata": {
        "colab": {
          "base_uri": "https://localhost:8080/"
        },
        "id": "I44dom9Q6QPI",
        "outputId": "94a7880f-7b7d-473c-d924-a70e784a714f"
      },
      "execution_count": null,
      "outputs": [
        {
          "output_type": "stream",
          "name": "stdout",
          "text": [
            "Ep01 — tr_loss=1.7427  val_loss=1.4402  val_acc=0.4730  val_prec=0.4674  val_rec=0.4730  val_f1=0.4570\n",
            "Ep02 — tr_loss=1.4472  val_loss=1.2447  val_acc=0.5438  val_prec=0.5370  val_rec=0.5438  val_f1=0.5302\n",
            "Ep03 — tr_loss=1.3220  val_loss=1.1777  val_acc=0.5748  val_prec=0.5832  val_rec=0.5748  val_f1=0.5742\n",
            "Ep04 — tr_loss=1.2332  val_loss=1.0812  val_acc=0.6054  val_prec=0.6117  val_rec=0.6054  val_f1=0.5982\n",
            "Ep05 — tr_loss=1.1668  val_loss=1.0330  val_acc=0.6320  val_prec=0.6474  val_rec=0.6320  val_f1=0.6355\n",
            "Ep06 — tr_loss=1.1142  val_loss=0.9714  val_acc=0.6536  val_prec=0.6549  val_rec=0.6536  val_f1=0.6520\n",
            "Ep07 — tr_loss=1.0813  val_loss=0.9430  val_acc=0.6626  val_prec=0.6656  val_rec=0.6626  val_f1=0.6612\n",
            "Ep08 — tr_loss=1.0449  val_loss=0.9322  val_acc=0.6746  val_prec=0.6736  val_rec=0.6746  val_f1=0.6703\n",
            "Ep09 — tr_loss=1.0242  val_loss=0.9078  val_acc=0.6792  val_prec=0.6792  val_rec=0.6792  val_f1=0.6749\n",
            "Ep10 — tr_loss=0.9934  val_loss=0.9170  val_acc=0.6758  val_prec=0.6796  val_rec=0.6758  val_f1=0.6722\n",
            "Ep11 — tr_loss=0.9756  val_loss=0.8973  val_acc=0.6800  val_prec=0.6901  val_rec=0.6800  val_f1=0.6756\n",
            "Ep12 — tr_loss=0.9638  val_loss=0.8968  val_acc=0.6804  val_prec=0.6879  val_rec=0.6804  val_f1=0.6724\n",
            "Ep13 — tr_loss=0.9484  val_loss=0.8482  val_acc=0.7024  val_prec=0.7026  val_rec=0.7024  val_f1=0.6998\n",
            "Ep14 — tr_loss=0.9355  val_loss=0.8073  val_acc=0.7146  val_prec=0.7100  val_rec=0.7146  val_f1=0.7100\n",
            "Ep15 — tr_loss=0.9176  val_loss=0.8466  val_acc=0.7052  val_prec=0.7069  val_rec=0.7052  val_f1=0.6992\n",
            "Ep16 — tr_loss=0.9101  val_loss=0.8242  val_acc=0.7022  val_prec=0.7041  val_rec=0.7022  val_f1=0.6995\n",
            "Ep17 — tr_loss=0.9036  val_loss=0.8174  val_acc=0.7138  val_prec=0.7192  val_rec=0.7138  val_f1=0.7129\n",
            "Ep18 — tr_loss=0.8855  val_loss=0.8169  val_acc=0.7100  val_prec=0.7172  val_rec=0.7100  val_f1=0.7104\n",
            "Ep19 — tr_loss=0.8790  val_loss=0.8076  val_acc=0.7134  val_prec=0.7184  val_rec=0.7134  val_f1=0.7117\n",
            "⏸️ Early stopping acionado.\n",
            "\n",
            "🎯 Métricas no Test Set:\n",
            "  accuracy: 0.7395\n",
            "  precision: 0.7382\n",
            "    recall: 0.7395\n",
            "  f1_score: 0.7362\n"
          ]
        }
      ]
    },
    {
      "cell_type": "markdown",
      "source": [
        "## Experimento 7: Transfer Learning com ResNet18"
      ],
      "metadata": {
        "id": "IKeMtOC38x6z"
      }
    },
    {
      "cell_type": "markdown",
      "source": [
        "### Objetivos\n",
        "\n",
        "Usar ResNet18 pré‑treinada adaptada para CIFAR‑10\n",
        "\n",
        "Monitorar as 4 métricas no val set em cada época\n",
        "\n",
        "Avaliar no test set ao final"
      ],
      "metadata": {
        "id": "JDwFN59c84iK"
      }
    },
    {
      "cell_type": "code",
      "source": [
        "device = torch.device('cuda' if torch.cuda.is_available() else 'cpu')\n"
      ],
      "metadata": {
        "id": "NqBVUqrPK-un"
      },
      "execution_count": null,
      "outputs": []
    },
    {
      "cell_type": "code",
      "source": [
        "import torchvision.models as models\n",
        "\n",
        "resnet = models.resnet18(pretrained=True)\n",
        "resnet.conv1 = nn.Conv2d(3,64, kernel_size=3, stride=1, padding=1, bias=False)\n",
        "resnet.maxpool = nn.Identity()\n",
        "resnet.fc = nn.Linear(resnet.fc.in_features, 10)\n",
        "resnet = resnet.to(device)\n",
        "\n",
        "opt  = torch.optim.Adam(resnet.parameters(), lr=1e-3)\n",
        "crit = nn.CrossEntropyLoss()\n",
        "\n",
        "history_resnet = {\n",
        "    \"train_loss\": [],   \"val_loss\": [],\n",
        "    \"train_accuracy\": [], \"val_accuracy\": [],\n",
        "    \"train_precision\": [], \"val_precision\": [],\n",
        "    \"train_recall\": [],    \"val_recall\": [],\n",
        "    \"train_f1_score\": [],  \"val_f1_score\": []\n",
        "}\n",
        "\n",
        "# Early stopping\n",
        "best_val_loss = float('inf')\n",
        "patience, counter = 5, 0\n"
      ],
      "metadata": {
        "id": "lhsHgqbT9A-A"
      },
      "execution_count": null,
      "outputs": []
    },
    {
      "cell_type": "code",
      "source": [
        "for epoch in range(1, 16):\n",
        "    # — Treino —\n",
        "    resnet.train()\n",
        "    running_tr_loss = 0.0\n",
        "    tr_t, tr_p = [], []\n",
        "    for imgs, lbls in train_loader:\n",
        "        imgs, lbls = imgs.to(device), lbls.to(device)\n",
        "        opt.zero_grad()\n",
        "        out = resnet(imgs)\n",
        "        loss = crit(out, lbls)\n",
        "        loss.backward()\n",
        "        opt.step()\n",
        "        running_tr_loss += loss.item() * imgs.size(0)\n",
        "        preds = out.argmax(1)\n",
        "        tr_t.extend(lbls.cpu().numpy()); tr_p.extend(preds.cpu().numpy())\n",
        "\n",
        "    train_loss = running_tr_loss / len(train_sub)\n",
        "    tr_scores  = get_scores(tr_t, tr_p)\n",
        "\n",
        "    # — Validação —\n",
        "    resnet.eval()\n",
        "    running_val_loss = 0.0\n",
        "    val_t, val_p = [], []\n",
        "    with torch.no_grad():\n",
        "        for imgs, lbls in val_loader:\n",
        "            imgs, lbls = imgs.to(device), lbls.to(device)\n",
        "            out = resnet(imgs)\n",
        "            loss = crit(out, lbls)\n",
        "            running_val_loss += loss.item() * imgs.size(0)\n",
        "            preds = out.argmax(1)\n",
        "            val_t.extend(lbls.cpu().numpy()); val_p.extend(preds.cpu().numpy())\n",
        "\n",
        "    val_loss = running_val_loss / len(val_sub)\n",
        "    val_scores = get_scores(val_t, val_p)\n",
        "\n",
        "    # — Salvar no history_resnet —\n",
        "    history_resnet[\"train_loss\"].append(train_loss)\n",
        "    history_resnet[\"val_loss\"].append(val_loss)\n",
        "\n",
        "    history_resnet[\"train_accuracy\"].append(tr_scores[\"accuracy\"])\n",
        "    history_resnet[\"val_accuracy\"].append(val_scores[\"accuracy\"])\n",
        "\n",
        "    history_resnet[\"train_precision\"].append(tr_scores[\"precision\"])\n",
        "    history_resnet[\"val_precision\"].append(val_scores[\"precision\"])\n",
        "\n",
        "    history_resnet[\"train_recall\"].append(tr_scores[\"recall\"])\n",
        "    history_resnet[\"val_recall\"].append(val_scores[\"recall\"])\n",
        "\n",
        "    history_resnet[\"train_f1_score\"].append(tr_scores[\"f1_score\"])\n",
        "    history_resnet[\"val_f1_score\"].append(val_scores[\"f1_score\"])\n",
        "\n",
        "    # — Logging —\n",
        "    print(f\"ResNet Ep{epoch:02d} — tr_loss={train_loss:.4f}  val_loss={val_loss:.4f}  \"\n",
        "          f\"tr_acc={tr_scores['accuracy']:.4f}  val_acc={val_scores['accuracy']:.4f}\")\n",
        "\n",
        "    # — Early stopping no val_loss —\n",
        "    if val_loss < best_val_loss:\n",
        "        best_val_loss, counter = val_loss, 0\n",
        "        torch.save(resnet.state_dict(), 'best_resnet.pth')\n",
        "    else:\n",
        "        counter += 1\n",
        "        if counter >= patience:\n",
        "            print(\"⏸️ Early stopping acionado.\")\n",
        "            break\n"
      ],
      "metadata": {
        "colab": {
          "base_uri": "https://localhost:8080/"
        },
        "id": "g1KJKG-v9Xcl",
        "outputId": "dd622351-a1f3-435b-acbe-d7ce48aea628"
      },
      "execution_count": null,
      "outputs": [
        {
          "output_type": "stream",
          "name": "stdout",
          "text": [
            "ResNet Ep01 — tr_loss=0.6126  val_loss=0.5327  tr_acc=0.7942  val_acc=0.8190\n",
            "ResNet Ep02 — tr_loss=0.5017  val_loss=0.4748  tr_acc=0.8284  val_acc=0.8388\n",
            "ResNet Ep03 — tr_loss=0.4283  val_loss=0.4499  tr_acc=0.8557  val_acc=0.8474\n",
            "ResNet Ep04 — tr_loss=0.3730  val_loss=0.3883  tr_acc=0.8733  val_acc=0.8656\n",
            "ResNet Ep05 — tr_loss=0.3412  val_loss=0.3377  tr_acc=0.8844  val_acc=0.8846\n",
            "ResNet Ep06 — tr_loss=0.3062  val_loss=0.3211  tr_acc=0.8959  val_acc=0.8870\n",
            "ResNet Ep07 — tr_loss=0.2747  val_loss=0.3037  tr_acc=0.9069  val_acc=0.8984\n",
            "ResNet Ep08 — tr_loss=0.2511  val_loss=0.3210  tr_acc=0.9154  val_acc=0.8918\n",
            "ResNet Ep09 — tr_loss=0.2343  val_loss=0.3041  tr_acc=0.9195  val_acc=0.9004\n",
            "ResNet Ep10 — tr_loss=0.2081  val_loss=0.2987  tr_acc=0.9280  val_acc=0.9094\n",
            "ResNet Ep11 — tr_loss=0.1958  val_loss=0.2576  tr_acc=0.9323  val_acc=0.9142\n",
            "ResNet Ep12 — tr_loss=0.1787  val_loss=0.2702  tr_acc=0.9387  val_acc=0.9098\n",
            "ResNet Ep13 — tr_loss=0.1706  val_loss=0.2867  tr_acc=0.9419  val_acc=0.9112\n",
            "ResNet Ep14 — tr_loss=0.1585  val_loss=0.2669  tr_acc=0.9444  val_acc=0.9160\n",
            "ResNet Ep15 — tr_loss=0.1463  val_loss=0.2525  tr_acc=0.9498  val_acc=0.9162\n"
          ]
        }
      ]
    },
    {
      "cell_type": "code",
      "source": [
        "num_epochs = len(history_resnet[\"train_accuracy\"])\n",
        "\n",
        "print(\"Epoch | Train Loss | Train Acc | Train Prec | Train Rec | Train F1\")\n",
        "print(\"------+------------+-----------+------------+-----------+---------\")\n",
        "for epoch in range(num_epochs):\n",
        "    ep = epoch + 1\n",
        "    tl = history_resnet[\"train_loss\"][epoch]\n",
        "    ta = history_resnet[\"train_accuracy\"][epoch]\n",
        "    tp = history_resnet[\"train_precision\"][epoch]\n",
        "    tr = history_resnet[\"train_recall\"][epoch]\n",
        "    tf = history_resnet[\"train_f1_score\"][epoch]\n",
        "    print(f\"{ep:5d} | {tl:10.4f} | {ta:9.4f} | {tp:10.4f} | {tr:9.4f} | {tf:7.4f}\")\n"
      ],
      "metadata": {
        "id": "dGnOLDWAJflk",
        "colab": {
          "base_uri": "https://localhost:8080/"
        },
        "outputId": "824c2534-a7b6-4656-9209-30c1066043c7"
      },
      "execution_count": null,
      "outputs": [
        {
          "output_type": "stream",
          "name": "stdout",
          "text": [
            "Epoch | Train Loss | Train Acc | Train Prec | Train Rec | Train F1\n",
            "------+------------+-----------+------------+-----------+---------\n",
            "    1 |     0.6126 |    0.7942 |     0.7938 |    0.7942 |  0.7939\n",
            "    2 |     0.5017 |    0.8284 |     0.8281 |    0.8284 |  0.8282\n",
            "    3 |     0.4283 |    0.8557 |     0.8555 |    0.8557 |  0.8556\n",
            "    4 |     0.3730 |    0.8733 |     0.8731 |    0.8733 |  0.8731\n",
            "    5 |     0.3412 |    0.8844 |     0.8844 |    0.8844 |  0.8844\n",
            "    6 |     0.3062 |    0.8959 |     0.8958 |    0.8959 |  0.8958\n",
            "    7 |     0.2747 |    0.9069 |     0.9067 |    0.9069 |  0.9068\n",
            "    8 |     0.2511 |    0.9154 |     0.9153 |    0.9154 |  0.9153\n",
            "    9 |     0.2343 |    0.9195 |     0.9195 |    0.9195 |  0.9195\n",
            "   10 |     0.2081 |    0.9280 |     0.9280 |    0.9280 |  0.9280\n",
            "   11 |     0.1958 |    0.9323 |     0.9322 |    0.9323 |  0.9323\n",
            "   12 |     0.1787 |    0.9387 |     0.9386 |    0.9387 |  0.9386\n",
            "   13 |     0.1706 |    0.9419 |     0.9419 |    0.9419 |  0.9419\n",
            "   14 |     0.1585 |    0.9444 |     0.9444 |    0.9444 |  0.9444\n",
            "   15 |     0.1463 |    0.9498 |     0.9497 |    0.9498 |  0.9497\n"
          ]
        }
      ]
    },
    {
      "cell_type": "code",
      "source": [
        "num_epochs = len(history_resnet[\"val_accuracy\"])\n",
        "\n",
        "print(\"Epoch |  Val Loss  | Val Acc  | Val Prec | Val Rec  | Val F1\")\n",
        "print(\"------+-----------+----------+----------+----------+---------\")\n",
        "for epoch in range(num_epochs):\n",
        "    ep = epoch + 1\n",
        "    vl = history_resnet[\"val_loss\"][epoch]\n",
        "    va = history_resnet[\"val_accuracy\"][epoch]\n",
        "    vp = history_resnet[\"val_precision\"][epoch]\n",
        "    vr = history_resnet[\"val_recall\"][epoch]\n",
        "    vf = history_resnet[\"val_f1_score\"][epoch]\n",
        "    print(f\"{ep:5d} | {vl:9.4f} | {va:8.4f} | {vp:8.4f} | {vr:8.4f} | {vf:7.4f}\")\n"
      ],
      "metadata": {
        "id": "bhyLmio-ESG5",
        "outputId": "537ece1f-0b31-49f7-b5cd-a67626fef138",
        "colab": {
          "base_uri": "https://localhost:8080/"
        }
      },
      "execution_count": null,
      "outputs": [
        {
          "output_type": "stream",
          "name": "stdout",
          "text": [
            "Epoch |  Val Loss  | Val Acc  | Val Prec | Val Rec  | Val F1\n",
            "------+-----------+----------+----------+----------+---------\n",
            "    1 |    0.5327 |   0.8190 |   0.8270 |   0.8190 |  0.8153\n",
            "    2 |    0.4748 |   0.8388 |   0.8432 |   0.8388 |  0.8389\n",
            "    3 |    0.4499 |   0.8474 |   0.8536 |   0.8474 |  0.8461\n",
            "    4 |    0.3883 |   0.8656 |   0.8722 |   0.8656 |  0.8631\n",
            "    5 |    0.3377 |   0.8846 |   0.8870 |   0.8846 |  0.8838\n",
            "    6 |    0.3211 |   0.8870 |   0.8905 |   0.8870 |  0.8877\n",
            "    7 |    0.3037 |   0.8984 |   0.9005 |   0.8984 |  0.8985\n",
            "    8 |    0.3210 |   0.8918 |   0.8978 |   0.8918 |  0.8924\n",
            "    9 |    0.3041 |   0.9004 |   0.9062 |   0.9004 |  0.9015\n",
            "   10 |    0.2987 |   0.9094 |   0.9098 |   0.9094 |  0.9087\n",
            "   11 |    0.2576 |   0.9142 |   0.9163 |   0.9142 |  0.9144\n",
            "   12 |    0.2702 |   0.9098 |   0.9099 |   0.9098 |  0.9096\n",
            "   13 |    0.2867 |   0.9112 |   0.9147 |   0.9112 |  0.9118\n",
            "   14 |    0.2669 |   0.9160 |   0.9165 |   0.9160 |  0.9156\n",
            "   15 |    0.2525 |   0.9162 |   0.9163 |   0.9162 |  0.9158\n"
          ]
        }
      ]
    },
    {
      "cell_type": "code",
      "source": [
        "import matplotlib.pyplot as plt\n",
        "\n",
        "epochs = range(1, len(history_resnet[\"train_loss\"])+1)\n",
        "fig, axes = plt.subplots(3, 2, figsize=(12,14))\n",
        "\n",
        "# Loss\n",
        "axes[0,0].plot(epochs, history_resnet[\"train_loss\"], label=\"train_loss\")\n",
        "axes[0,0].plot(epochs, history_resnet[\"val_loss\"],   label=\"val_loss\")\n",
        "axes[0,0].set_title(\"Loss\"); axes[0,0].legend()\n",
        "\n",
        "# Accuracy\n",
        "axes[0,1].plot(epochs, history_resnet[\"train_accuracy\"], label=\"train_acc\")\n",
        "axes[0,1].plot(epochs, history_resnet[\"val_accuracy\"],   label=\"val_acc\")\n",
        "axes[0,1].set_title(\"Accuracy\"); axes[0,1].legend()\n",
        "\n",
        "# Precision\n",
        "axes[1,0].plot(epochs, history_resnet[\"train_precision\"], label=\"train_precision\")\n",
        "axes[1,0].plot(epochs, history_resnet[\"val_precision\"],   label=\"val_precision\")\n",
        "axes[1,0].set_title(\"Precision\"); axes[1,0].legend()\n",
        "\n",
        "# Recall\n",
        "axes[1,1].plot(epochs, history_resnet[\"train_recall\"], label=\"train_recall\")\n",
        "axes[1,1].plot(epochs, history_resnet[\"val_recall\"],   label=\"val_recall\")\n",
        "axes[1,1].set_title(\"Recall\"); axes[1,1].legend()\n",
        "\n",
        "# F1‑score\n",
        "axes[2,0].plot(epochs, history_resnet[\"train_f1_score\"], '--', label=\"train_f1\")\n",
        "axes[2,0].plot(epochs, history_resnet[\"val_f1_score\"],   '--', label=\"val_f1\")\n",
        "axes[2,0].set_title(\"F1-score\"); axes[2,0].legend()\n",
        "\n",
        "# painel vazio\n",
        "axes[2,1].axis('off')\n",
        "\n",
        "plt.tight_layout()\n",
        "plt.show()\n"
      ],
      "metadata": {
        "colab": {
          "base_uri": "https://localhost:8080/",
          "height": 772
        },
        "id": "Pv14CjV-D6f8",
        "outputId": "747261f0-256e-4cc5-e7f3-81802e91b254"
      },
      "execution_count": null,
      "outputs": [
        {
          "output_type": "display_data",
          "data": {
            "text/plain": [
              "<Figure size 1200x1400 with 6 Axes>"
            ],
            "image/png": "[encoded data removed]"
          },
          "metadata": {}
        }
      ]
    },
    {
      "cell_type": "code",
      "source": [
        "all_t, all_p = [], []\n",
        "resnet.eval()\n",
        "with torch.no_grad():\n",
        "    for imgs,lbls in test_loader:\n",
        "        imgs,lbls = imgs.to(device), lbls.to(device)\n",
        "        preds = resnet(imgs).argmax(1)\n",
        "        all_t.extend(lbls.cpu().numpy()); all_p.extend(preds.cpu().numpy())\n",
        "print(\"🔍 ResNet test scores:\", get_scores(all_t, all_p))\n"
      ],
      "metadata": {
        "colab": {
          "base_uri": "https://localhost:8080/"
        },
        "id": "th2yliP8AJ6Z",
        "outputId": "4d352667-3cb9-45b1-a128-c60fb287e160"
      },
      "execution_count": null,
      "outputs": [
        {
          "output_type": "stream",
          "name": "stdout",
          "text": [
            "🔍 ResNet test scores: {'accuracy': 0.917, 'precision': 0.9175424589859835, 'recall': 0.917, 'f1_score': 0.9168352013629341}\n"
          ]
        }
      ]
    }
  ]
}