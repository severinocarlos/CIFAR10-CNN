{
  "nbformat": 4,
  "nbformat_minor": 0,
  "metadata": {
    "colab": {
      "provenance": [],
      "gpuType": "T4"
    },
    "kernelspec": {
      "name": "python3",
      "display_name": "Python 3"
    },
    "language_info": {
      "name": "python"
    },
    "accelerator": "GPU"
  },
  "cells": [
    {
      "cell_type": "markdown",
      "source": [
        "# CIFAR-10 com Convolutional Neural Network (CNN - ResNet)\n",
        "> Este projeto tem como objetivo desenvolver uma CNN baseada em ResNet para classificar imagens do dataset CIFAR-10, aplicando técnicas modernas de regularização e otimização.\n",
        "\n",
        "A arquitetura inclui dropout, batch normalization, weight decay e data augmentation. Utilizamos o Optuna para otimização de hiperparâmetros, como taxa de aprendizado, batch size, taxa de dropout, otimizador (Adam, SGD, AdamW) e uso de batch normalization.\n",
        "Além disso, empregamos Learning Rate Scheduler, Early Stopping e Pruning para interromper treinos pouco promissores e acelerar a busca por melhores resultados.\n",
        "\n"
      ],
      "metadata": {
        "id": "Yb9hHQdjZTTA"
      }
    },
    {
      "cell_type": "code",
      "source": [
        "!pip install optuna"
      ],
      "metadata": {
        "colab": {
          "base_uri": "https://localhost:8080/"
        },
        "id": "UhJHHCfU9Ya_",
        "outputId": "1f5ebaa2-3137-445a-b93d-85681ab65371"
      },
      "execution_count": null,
      "outputs": [
        {
          "output_type": "stream",
          "name": "stdout",
          "text": [
            "Collecting optuna\n",
            "  Downloading optuna-4.3.0-py3-none-any.whl.metadata (17 kB)\n",
            "Collecting alembic>=1.5.0 (from optuna)\n",
            "  Downloading alembic-1.16.1-py3-none-any.whl.metadata (7.3 kB)\n",
            "Collecting colorlog (from optuna)\n",
            "  Downloading colorlog-6.9.0-py3-none-any.whl.metadata (10 kB)\n",
            "Requirement already satisfied: numpy in /usr/local/lib/python3.11/dist-packages (from optuna) (2.0.2)\n",
            "Requirement already satisfied: packaging>=20.0 in /usr/local/lib/python3.11/dist-packages (from optuna) (24.2)\n",
            "Requirement already satisfied: sqlalchemy>=1.4.2 in /usr/local/lib/python3.11/dist-packages (from optuna) (2.0.41)\n",
            "Requirement already satisfied: tqdm in /usr/local/lib/python3.11/dist-packages (from optuna) (4.67.1)\n",
            "Requirement already satisfied: PyYAML in /usr/local/lib/python3.11/dist-packages (from optuna) (6.0.2)\n",
            "Requirement already satisfied: Mako in /usr/lib/python3/dist-packages (from alembic>=1.5.0->optuna) (1.1.3)\n",
            "Requirement already satisfied: typing-extensions>=4.12 in /usr/local/lib/python3.11/dist-packages (from alembic>=1.5.0->optuna) (4.14.0)\n",
            "Requirement already satisfied: greenlet>=1 in /usr/local/lib/python3.11/dist-packages (from sqlalchemy>=1.4.2->optuna) (3.2.2)\n",
            "Downloading optuna-4.3.0-py3-none-any.whl (386 kB)\n",
            "\u001b[2K   \u001b[90m━━━━━━━━━━━━━━━━━━━━━━━━━━━━━━━━━━━━━━━━\u001b[0m \u001b[32m386.6/386.6 kB\u001b[0m \u001b[31m27.1 MB/s\u001b[0m eta \u001b[36m0:00:00\u001b[0m\n",
            "\u001b[?25hDownloading alembic-1.16.1-py3-none-any.whl (242 kB)\n",
            "\u001b[2K   \u001b[90m━━━━━━━━━━━━━━━━━━━━━━━━━━━━━━━━━━━━━━━━\u001b[0m \u001b[32m242.5/242.5 kB\u001b[0m \u001b[31m20.6 MB/s\u001b[0m eta \u001b[36m0:00:00\u001b[0m\n",
            "\u001b[?25hDownloading colorlog-6.9.0-py3-none-any.whl (11 kB)\n",
            "Installing collected packages: colorlog, alembic, optuna\n",
            "Successfully installed alembic-1.16.1 colorlog-6.9.0 optuna-4.3.0\n"
          ]
        }
      ]
    },
    {
      "cell_type": "code",
      "execution_count": null,
      "metadata": {
        "id": "T9aTTLc883qq"
      },
      "outputs": [],
      "source": [
        "import torch\n",
        "import torch.nn as nn\n",
        "import torch.optim as optim\n",
        "import torchvision\n",
        "import torchvision.transforms as transforms\n",
        "from torch.utils.data import DataLoader, random_split\n",
        "import numpy as np\n",
        "from sklearn import metrics\n",
        "from tqdm import tqdm\n",
        "import optuna\n",
        "import matplotlib.pyplot as plt\n",
        "import seaborn as sns"
      ]
    },
    {
      "cell_type": "code",
      "source": [
        "device = torch.device(\"cuda\" if torch.cuda.is_available() else \"cpu\")\n",
        "print(f\"Usando device: {device}\")"
      ],
      "metadata": {
        "colab": {
          "base_uri": "https://localhost:8080/"
        },
        "id": "wV0BHEIy9F09",
        "outputId": "4a259f33-8fd3-40ec-ce61-b8fc383a6916"
      },
      "execution_count": null,
      "outputs": [
        {
          "output_type": "stream",
          "name": "stdout",
          "text": [
            "Usando device: cuda\n"
          ]
        }
      ]
    },
    {
      "cell_type": "markdown",
      "source": [
        "# Preprocessamento e Data Augmentation\n",
        "Neste trecho, definimos os transforms aplicados às imagens do CIFAR-10. Para os dados de treino, utilizamos técnicas de data augmentation como flip horizontal aleatório, rotação, recorte com padding e ajustes de cor para aumentar a robustez do modelo. Em seguida, normalizamos as imagens com a média e desvio padrão específicos do CIFAR-10. Para os dados de teste, aplicamos apenas a conversão para tensor e normalização, garantindo consistência na avaliação.\n",
        "\n"
      ],
      "metadata": {
        "id": "V3flFF9IZfRW"
      }
    },
    {
      "cell_type": "code",
      "source": [
        "def get_transforms():\n",
        "    \"\"\"Transforms com data augmentation para CNN\"\"\"\n",
        "    train_transform = transforms.Compose([\n",
        "        transforms.RandomHorizontalFlip(p=0.5),\n",
        "        transforms.RandomRotation(15),\n",
        "        transforms.RandomCrop(32, padding=4),\n",
        "        transforms.ColorJitter(brightness=0.2, contrast=0.2, saturation=0.2, hue=0.1),\n",
        "        transforms.ToTensor(),\n",
        "        transforms.Normalize((0.4914, 0.4822, 0.4465), (0.2023, 0.1994, 0.2010))  # CIFAR-10 específico\n",
        "    ])\n",
        "\n",
        "    test_transform = transforms.Compose([\n",
        "        transforms.ToTensor(),\n",
        "        transforms.Normalize((0.4914, 0.4822, 0.4465), (0.2023, 0.1994, 0.2010))\n",
        "    ])\n",
        "\n",
        "    return train_transform, test_transform"
      ],
      "metadata": {
        "id": "hhpYdmk09GK0"
      },
      "execution_count": null,
      "outputs": []
    },
    {
      "cell_type": "markdown",
      "source": [
        "# Bloco Residual (ResidualBlock) - Arquitetura ResNet\n",
        "\n",
        "> O ResidualBlock é a estrutura fundamental da arquitetura ResNet (Residual Network), uma rede convolucional profunda que resolve o problema de degradação em redes muito profundas. Em vez de aprender diretamente uma função de mapeamento\n",
        "𝐻\n",
        "(\n",
        "𝑥\n",
        ")\n",
        "H(x), a ResNet força o bloco a aprender uma função residual\n",
        "𝐹\n",
        "(\n",
        "𝑥\n",
        ")\n",
        "=\n",
        "𝐻\n",
        "(\n",
        "𝑥\n",
        ")\n",
        "−\n",
        "𝑥\n",
        "F(x)=H(x)−x, de forma que o bloco aprenda\n",
        "𝐻\n",
        "(\n",
        "𝑥\n",
        ")\n",
        "=\n",
        "𝐹\n",
        "(\n",
        "𝑥\n",
        ")\n",
        "+\n",
        "𝑥\n",
        "H(x)=F(x)+x. Isso é feito através de um atalho (skip connection), permitindo o fluxo direto de informações e gradientes.\n",
        "\n",
        "- Camadas principais:\n",
        "\n",
        "  - conv1 e conv2: duas convoluções 3x3 aplicadas sequencialmente.\n",
        "\n",
        "  - bn1 e bn2: camadas de Batch Normalization, que estabilizam e aceleram o treinamento.\n",
        "\n",
        "  - ReLU: função de ativação não linear.\n",
        "\n",
        "- Skip connection:\n",
        "\n",
        "  - A variável residual guarda a entrada original x.\n",
        "\n",
        "  - Se for necessário ajustar a dimensão da entrada (in_channels != out_channels ou stride != 1), a conexão de atalho (downsample) transforma x para compatibilidade.\n",
        "\n",
        "- Forward:\n",
        "\n",
        "  - A entrada passa pelas duas camadas convolucionais com batch norm e ReLU intermediária.\n",
        "\n",
        "  - A saída resultante é somada à entrada original (ou ajustada).\n",
        "\n",
        "  - Uma nova ReLU é aplicada após a soma.\n",
        "\n"
      ],
      "metadata": {
        "id": "-sY4KGgoaLVJ"
      }
    },
    {
      "cell_type": "code",
      "source": [
        "class ResidualBlock(nn.Module):\n",
        "    \"\"\"Bloco residual básico para ResNet\"\"\"\n",
        "    def __init__(self, in_channels, out_channels, stride=1, downsample=None):\n",
        "        super(ResidualBlock, self).__init__()\n",
        "        self.conv1 = nn.Conv2d(in_channels, out_channels, kernel_size=3,\n",
        "                              stride=stride, padding=1, bias=False)\n",
        "        self.bn1 = nn.BatchNorm2d(out_channels)\n",
        "        self.relu = nn.ReLU(inplace=True)\n",
        "        self.conv2 = nn.Conv2d(out_channels, out_channels, kernel_size=3,\n",
        "                              stride=1, padding=1, bias=False)\n",
        "        self.bn2 = nn.BatchNorm2d(out_channels)\n",
        "        self.downsample = downsample\n",
        "\n",
        "    def forward(self, x):\n",
        "        residual = x\n",
        "\n",
        "        out = self.conv1(x)\n",
        "        out = self.bn1(out)\n",
        "        out = self.relu(out)\n",
        "\n",
        "        out = self.conv2(out)\n",
        "        out = self.bn2(out)\n",
        "\n",
        "        if self.downsample:\n",
        "            residual = self.downsample(x)\n",
        "\n",
        "        out += residual\n",
        "        out = self.relu(out)\n",
        "\n",
        "        return out"
      ],
      "metadata": {
        "id": "PZJhNCVV9ID3"
      },
      "execution_count": null,
      "outputs": []
    },
    {
      "cell_type": "markdown",
      "source": [
        "# Construção da ResNet\n",
        "\n",
        "- `conv1 + bn1 + ReLU`: Primeira camada convolucional que prepara os dados de entrada (imagens com 3 canais).\n",
        "\n",
        "- `layer1`: mantém o tamanho da imagem e os canais.\n",
        "\n",
        "- `layer2`: reduz a resolução e dobra os canais de 32 → 64.\n",
        "\n",
        "- `layer3`: reduz novamente a resolução e dobra canais de 64 → 128.\n",
        "\n",
        "- `avg_pool`: Reduz a dimensão espacial da imagem para 1x1 usando média global.\n",
        "\n",
        "- `fc`: Camada final totalmente conectada para classificação (10 classes do CIFAR-10).\n"
      ],
      "metadata": {
        "id": "CLL_xM0ua5Ya"
      }
    },
    {
      "cell_type": "code",
      "source": [
        "class CNNRegularization(nn.Module):\n",
        "    def __init__(self,\n",
        "                 num_classes=10,\n",
        "                 num_filters=[32, 64, 128],\n",
        "                 kernel_sizes=[3, 3, 3],\n",
        "                 dropout_rate=0.5,\n",
        "                 use_batch_norm=True,\n",
        "                 activation='relu'):\n",
        "        super(CNNRegularization, self).__init__()\n",
        "\n",
        "        self.dropout_rate = dropout_rate\n",
        "        self.use_batch_norm = use_batch_norm\n",
        "\n",
        "        self.activations = {\n",
        "            'relu': nn.ReLU(inplace=True),\n",
        "            'leaky_relu': nn.LeakyReLU(0.01, inplace=True),\n",
        "            'elu': nn.ELU(inplace=True),\n",
        "        }\n",
        "        self.activation = self.activations[activation]\n",
        "        self._build_resnet()\n",
        "\n",
        "\n",
        "    def _build_resnet(self):\n",
        "        \"\"\"Constrói mini ResNet\"\"\"\n",
        "        self.conv1 = nn.Conv2d(3, 32, kernel_size=3, stride=1, padding=1, bias=False)\n",
        "        self.bn1 = nn.BatchNorm2d(32)\n",
        "        self.relu = nn.ReLU(inplace=True)\n",
        "\n",
        "        # Blocos residuais\n",
        "        self.layer1 = self._make_layer(32, 32, 2, stride=1)\n",
        "        self.layer2 = self._make_layer(32, 64, 2, stride=2)\n",
        "        self.layer3 = self._make_layer(64, 128, 2, stride=2)\n",
        "\n",
        "        self.avgpool = nn.AdaptiveAvgPool2d((1, 1))\n",
        "        self.dropout = nn.Dropout(self.dropout_rate)\n",
        "        self.fc = nn.Linear(128, 10)\n",
        "\n",
        "    def _make_layer(self, in_channels, out_channels, blocks, stride):\n",
        "        \"\"\"Cria uma camada de blocos residuais\"\"\"\n",
        "        downsample = None\n",
        "        if stride != 1 or in_channels != out_channels:\n",
        "            downsample = nn.Sequential(\n",
        "                nn.Conv2d(in_channels, out_channels, kernel_size=1, stride=stride, bias=False),\n",
        "                nn.BatchNorm2d(out_channels)\n",
        "            )\n",
        "\n",
        "        layers = []\n",
        "        layers.append(ResidualBlock(in_channels, out_channels, stride, downsample))\n",
        "\n",
        "        for _ in range(1, blocks):\n",
        "            layers.append(ResidualBlock(out_channels, out_channels))\n",
        "\n",
        "        return nn.Sequential(*layers)\n",
        "\n",
        "\n",
        "    def forward(self, x):\n",
        "        x = self.conv1(x)\n",
        "        x = self.bn1(x)\n",
        "        x = self.relu(x)\n",
        "\n",
        "        x = self.layer1(x)\n",
        "        x = self.layer2(x)\n",
        "        x = self.layer3(x)\n",
        "\n",
        "        x = self.avgpool(x)\n",
        "        x = torch.flatten(x, 1)\n",
        "        x = self.dropout(x)\n",
        "        x = self.fc(x)\n",
        "\n",
        "        return x\n"
      ],
      "metadata": {
        "id": "GHCiG8Ow9Jyu"
      },
      "execution_count": null,
      "outputs": []
    },
    {
      "cell_type": "code",
      "source": [
        "class CNNTrainer:\n",
        "    def __init__(self, model, train_loader, val_loader, test_loader, device):\n",
        "        self.model = model.to(device)\n",
        "        self.train_loader = train_loader\n",
        "        self.val_loader = val_loader\n",
        "        self.test_loader = test_loader\n",
        "        self.device = device\n",
        "\n",
        "        self.train_losses = []\n",
        "        self.val_losses = []\n",
        "        self.train_accuracies = []\n",
        "        self.val_accuracies = []\n",
        "\n",
        "    def train_epoch(self, optimizer, criterion):\n",
        "        \"\"\"Treina uma época\"\"\"\n",
        "        self.model.train()\n",
        "        total_loss = 0.0\n",
        "        correct = 0\n",
        "        total = 0\n",
        "\n",
        "        for images, labels in self.train_loader:\n",
        "            images = images.to(self.device)\n",
        "            labels = labels.to(self.device)\n",
        "\n",
        "            optimizer.zero_grad()\n",
        "            outputs = self.model(images)\n",
        "            loss = criterion(outputs, labels)\n",
        "            loss.backward()\n",
        "            optimizer.step()\n",
        "\n",
        "            total_loss += loss.item()\n",
        "            _, predicted = torch.max(outputs.data, 1)\n",
        "            total += labels.size(0)\n",
        "            correct += (predicted == labels).sum().item()\n",
        "\n",
        "        avg_loss = total_loss / len(self.train_loader)\n",
        "        accuracy = 100 * correct / total\n",
        "\n",
        "        return avg_loss, accuracy\n",
        "\n",
        "    def validate(self, criterion):\n",
        "        \"\"\"Avalia no conjunto de validação\"\"\"\n",
        "        self.model.eval()\n",
        "        total_loss = 0.0\n",
        "        correct = 0\n",
        "        total = 0\n",
        "\n",
        "        with torch.no_grad():\n",
        "            for images, labels in self.val_loader:\n",
        "                images = images.to(self.device)\n",
        "                labels = labels.to(self.device)\n",
        "\n",
        "                outputs = self.model(images)\n",
        "                loss = criterion(outputs, labels)\n",
        "\n",
        "                total_loss += loss.item()\n",
        "                _, predicted = torch.max(outputs.data, 1)\n",
        "                total += labels.size(0)\n",
        "                correct += (predicted == labels).sum().item()\n",
        "\n",
        "        avg_loss = total_loss / len(self.val_loader)\n",
        "        accuracy = 100 * correct / total\n",
        "\n",
        "        return avg_loss, accuracy\n",
        "\n",
        "    def train(self, optimizer, criterion, scheduler=None, num_epochs=50, patience=15):\n",
        "        \"\"\"Loop de treinamento completo\"\"\"\n",
        "        best_val_loss = float('inf')\n",
        "        patience_counter = 0\n",
        "\n",
        "        for epoch in tqdm(range(num_epochs), desc=\"Treinando CNN\"):\n",
        "            # Treinar\n",
        "            train_loss, train_acc = self.train_epoch(optimizer, criterion)\n",
        "\n",
        "            # Validar\n",
        "            val_loss, val_acc = self.validate(criterion)\n",
        "\n",
        "            # Scheduler\n",
        "            if scheduler:\n",
        "                scheduler.step(val_loss)\n",
        "\n",
        "            # Salvar histórico\n",
        "            self.train_losses.append(train_loss)\n",
        "            self.val_losses.append(val_loss)\n",
        "            self.train_accuracies.append(train_acc)\n",
        "            self.val_accuracies.append(val_acc)\n",
        "\n",
        "            # Early stopping\n",
        "            if val_loss < best_val_loss:\n",
        "                best_val_loss = val_loss\n",
        "                patience_counter = 0\n",
        "                # Salvar melhor modelo\n",
        "                torch.save(self.model.state_dict(), 'best_cnn_model.pth')\n",
        "            else:\n",
        "                patience_counter += 1\n",
        "\n",
        "            if epoch % 10 == 0:\n",
        "                current_lr = optimizer.param_groups[0]['lr']\n",
        "                print(f'Época {epoch}: Train Loss: {train_loss:.4f}, Val Loss: {val_loss:.4f}, '\n",
        "                      f'Train Acc: {train_acc:.2f}%, Val Acc: {val_acc:.2f}%, LR: {current_lr:.6f}')\n",
        "\n",
        "            if patience_counter >= patience:\n",
        "                print(f\"Early stopping na época {epoch}\")\n",
        "                break\n",
        "\n",
        "        self.model.load_state_dict(torch.load('best_cnn_model.pth'))\n",
        "        return self.model\n",
        "\n",
        "    def evaluate(self):\n",
        "        \"\"\"Avaliação final no conjunto de teste\"\"\"\n",
        "        self.model.eval()\n",
        "        all_preds = []\n",
        "        all_labels = []\n",
        "\n",
        "        with torch.no_grad():\n",
        "            for images, labels in self.test_loader:\n",
        "                images = images.to(self.device)\n",
        "                labels = labels.to(self.device)\n",
        "\n",
        "                outputs = self.model(images)\n",
        "                _, predicted = torch.max(outputs, 1)\n",
        "\n",
        "                all_preds.extend(predicted.cpu().numpy())\n",
        "                all_labels.extend(labels.cpu().numpy())\n",
        "\n",
        "        return self.get_scores(all_labels, all_preds)\n",
        "\n",
        "    def get_scores(self, targets, predictions):\n",
        "        \"\"\"Calcula métricas de avaliação\"\"\"\n",
        "        return {\n",
        "            \"accuracy\": metrics.accuracy_score(targets, predictions),\n",
        "            \"balanced_accuracy\": metrics.balanced_accuracy_score(targets, predictions),\n",
        "            \"precision\": metrics.precision_score(targets, predictions, average=\"weighted\"),\n",
        "            \"recall\": metrics.recall_score(targets, predictions, average=\"weighted\"),\n",
        "            \"f1_score\": metrics.f1_score(targets, predictions, average=\"weighted\")\n",
        "        }\n",
        "\n",
        "    def plot_training_history(self):\n",
        "        \"\"\"Plota gráficos de treinamento\"\"\"\n",
        "        fig, (ax1, ax2) = plt.subplots(1, 2, figsize=(15, 5))\n",
        "\n",
        "        # Loss\n",
        "        ax1.plot(self.train_losses, label='Train Loss', color='blue')\n",
        "        ax1.plot(self.val_losses, label='Validation Loss', color='red')\n",
        "        ax1.set_title('CNN Model Loss')\n",
        "        ax1.set_xlabel('Epoch')\n",
        "        ax1.set_ylabel('Loss')\n",
        "        ax1.legend()\n",
        "        ax1.grid(True)\n",
        "\n",
        "        # Accuracy\n",
        "        ax2.plot(self.train_accuracies, label='Train Accuracy', color='blue')\n",
        "        ax2.plot(self.val_accuracies, label='Validation Accuracy', color='red')\n",
        "        ax2.set_title('CNN Model Accuracy')\n",
        "        ax2.set_xlabel('Epoch')\n",
        "        ax2.set_ylabel('Accuracy (%)')\n",
        "        ax2.legend()\n",
        "        ax2.grid(True)\n",
        "\n",
        "        plt.tight_layout()\n",
        "        plt.show()"
      ],
      "metadata": {
        "id": "I6qynEQm9NMN"
      },
      "execution_count": null,
      "outputs": []
    },
    {
      "cell_type": "markdown",
      "source": [
        "# Optuna\n",
        "\n",
        "> Neste experimento, utilizamos o Optuna para otimizar automaticamente diversos hiperparâmetros de uma CNN aplicada ao CIFAR-10. A função objetivo testa diferentes combinações de taxa de aprendizado (lr), tamanho do batch (batch_size), taxa de dropout, tipo de função de ativação (relu, leaky_relu, elu), otimizador (Adam, SGD, AdamW) e uso ou não de batch normalization. O modelo é treinado e avaliado por 10 épocas com validação holdout (80/20), usando ReduceLROnPlateau para ajustar a taxa de aprendizado dinamicamente, e pruning para interromper execuções que não estão mostrando melhora, acelerando a busca por melhores configurações. O desempenho considerado é a acurácia na validação, retornada como métrica principal."
      ],
      "metadata": {
        "id": "g28fgLXmda6P"
      }
    },
    {
      "cell_type": "code",
      "source": [
        "def objective(trial):\n",
        "    \"\"\"Função objetivo para otimização Optuna\"\"\"\n",
        "\n",
        "    # Hiperparâmetros a otimizar\n",
        "    lr = trial.suggest_float(\"lr\", 1e-5, 1e-2, log=True)\n",
        "    batch_size = trial.suggest_categorical(\"batch_size\", [16, 32, 64])\n",
        "    dropout_rate = trial.suggest_float(\"dropout_rate\", 0.1, 0.7)\n",
        "    activation = trial.suggest_categorical(\"activation\", [\"relu\", \"leaky_relu\", \"elu\"])\n",
        "    optimizer_name = trial.suggest_categorical(\"optimizer\", [\"adam\", \"sgd\", \"adamw\"])\n",
        "    use_batch_norm = trial.suggest_categorical(\"use_batch_norm\", [True, False])\n",
        "\n",
        "\n",
        "    num_filters = [32, 64, 128]\n",
        "    kernel_sizes = [3, 3, 3]\n",
        "\n",
        "    # Preparar dados\n",
        "    train_transform, test_transform = get_transforms()\n",
        "\n",
        "    full_train_dataset = torchvision.datasets.CIFAR10(root='./data', train=True,\n",
        "                                                      download=True, transform=train_transform)\n",
        "\n",
        "    train_size = int(0.8 * len(full_train_dataset))\n",
        "    val_size = len(full_train_dataset) - train_size\n",
        "    train_dataset, val_dataset = random_split(full_train_dataset, [train_size, val_size])\n",
        "\n",
        "    train_loader = DataLoader(train_dataset, batch_size=batch_size, shuffle=True, num_workers=2)\n",
        "    val_loader = DataLoader(val_dataset, batch_size=batch_size, shuffle=False, num_workers=2)\n",
        "\n",
        "    # Criar modelo\n",
        "    model = CNNRegularization(\n",
        "        num_classes=10,\n",
        "        num_filters=num_filters,\n",
        "        kernel_sizes=kernel_sizes,\n",
        "        dropout_rate=dropout_rate,\n",
        "        use_batch_norm=use_batch_norm,\n",
        "        activation=activation\n",
        "    )\n",
        "\n",
        "    # Otimizador\n",
        "    if optimizer_name == \"adam\":\n",
        "        optimizer = optim.Adam(model.parameters(), lr=lr, weight_decay=1e-4)\n",
        "    elif optimizer_name == \"sgd\":\n",
        "        optimizer = optim.SGD(model.parameters(), lr=lr, momentum=0.9, weight_decay=1e-4)\n",
        "    else:  # adamw\n",
        "        optimizer = optim.AdamW(model.parameters(), lr=lr, weight_decay=1e-4)\n",
        "\n",
        "    criterion = nn.CrossEntropyLoss()\n",
        "    scheduler = optim.lr_scheduler.ReduceLROnPlateau(optimizer, mode='min', patience=3, factor=0.5)\n",
        "\n",
        "    trainer = CNNTrainer(model, train_loader, val_loader, None, device)\n",
        "\n",
        "    best_val_acc = 0\n",
        "    for epoch in range(10):\n",
        "        train_loss, train_acc = trainer.train_epoch(optimizer, criterion)\n",
        "        val_loss, val_acc = trainer.validate(criterion)\n",
        "        scheduler.step(val_loss)\n",
        "\n",
        "        if val_acc > best_val_acc:\n",
        "            best_val_acc = val_acc\n",
        "\n",
        "        trial.report(val_acc, epoch)\n",
        "        if trial.should_prune():\n",
        "            raise optuna.exceptions.TrialPruned()\n",
        "\n",
        "    return best_val_acc"
      ],
      "metadata": {
        "id": "g0UgkN_y9PwL"
      },
      "execution_count": null,
      "outputs": []
    },
    {
      "cell_type": "code",
      "source": [
        "def main():\n",
        "    print(\"=== TREINAMENTO CNN CIFAR-10 COM OTIMIZAÇÕES ===\\n\")\n",
        "\n",
        "    print(\"1. Preparando dados...\")\n",
        "    train_transform, test_transform = get_transforms()\n",
        "\n",
        "    full_train_dataset = torchvision.datasets.CIFAR10(root='./data', train=True,\n",
        "                                                      download=True, transform=train_transform)\n",
        "    test_dataset = torchvision.datasets.CIFAR10(root='./data', train=False,\n",
        "                                               download=True, transform=test_transform)\n",
        "\n",
        "    # Dividir treino em treino e validação (80-20)\n",
        "    train_size = int(0.8 * len(full_train_dataset))\n",
        "    val_size = len(full_train_dataset) - train_size\n",
        "    train_dataset, val_dataset = random_split(full_train_dataset, [train_size, val_size])\n",
        "\n",
        "    print(f\"Tamanhos dos conjuntos - Treino: {len(train_dataset)}, Validação: {len(val_dataset)}, Teste: {len(test_dataset)}\")\n",
        "\n",
        "    print(\"\\n2. Otimizando hiperparâmetros com Optuna...\")\n",
        "    study = optuna.create_study(direction=\"maximize\",\n",
        "                               pruner=optuna.pruners.MedianPruner(n_startup_trials=5))\n",
        "\n",
        "    study.optimize(objective, n_trials=10)\n",
        "\n",
        "    print(\"\\n=== MELHORES HIPERPARÂMETROS ===\")\n",
        "    for key, value in study.best_params.items():\n",
        "        print(f\"  {key}: {value}\")\n",
        "    print(f\"  Melhor accuracy: {study.best_value:.4f}\")\n",
        "\n",
        "    best_params = study.best_params\n",
        "\n",
        "    print(\"\\n3. Treinamento final com melhores hiperparâmetros...\")\n",
        "\n",
        "    # Criar dataloaders finais\n",
        "    train_loader = DataLoader(train_dataset, batch_size=best_params['batch_size'],\n",
        "                             shuffle=True, num_workers=2)\n",
        "    val_loader = DataLoader(val_dataset, batch_size=best_params['batch_size'],\n",
        "                           shuffle=False, num_workers=2)\n",
        "    test_loader = DataLoader(test_dataset, batch_size=best_params['batch_size'],\n",
        "                            shuffle=False, num_workers=2)\n",
        "\n",
        "\n",
        "    num_filters = [32, 64, 128]\n",
        "\n",
        "    model = CNNRegularization(\n",
        "        num_classes=10,\n",
        "        num_filters=num_filters,\n",
        "        kernel_sizes=[3, 3, 3],\n",
        "        dropout_rate=best_params['dropout_rate'],\n",
        "        use_batch_norm=best_params['use_batch_norm'],\n",
        "        activation=best_params['activation']\n",
        "    )\n",
        "\n",
        "    print(f\"Modelo criado: ResNet com {sum(p.numel() for p in model.parameters()):,} parâmetros\")\n",
        "\n",
        "    # Otimizador final\n",
        "    if best_params['optimizer'] == \"adam\":\n",
        "        optimizer = optim.Adam(model.parameters(), lr=best_params['lr'], weight_decay=1e-4)\n",
        "    elif best_params['optimizer'] == \"sgd\":\n",
        "        optimizer = optim.SGD(model.parameters(), lr=best_params['lr'],\n",
        "                             momentum=0.9, weight_decay=1e-4)\n",
        "    else:\n",
        "        optimizer = optim.AdamW(model.parameters(), lr=best_params['lr'], weight_decay=1e-4)\n",
        "\n",
        "    criterion = nn.CrossEntropyLoss()\n",
        "    scheduler = optim.lr_scheduler.ReduceLROnPlateau(optimizer, mode='min', patience=7, factor=0.5)\n",
        "\n",
        "    # Treinamento final\n",
        "    trainer = CNNTrainer(model, train_loader, val_loader, test_loader, device)\n",
        "    trained_model = trainer.train(optimizer, criterion, scheduler, num_epochs=50, patience=5)\n",
        "\n",
        "    print(\"\\n4. Avaliação final no conjunto de teste...\")\n",
        "    final_scores = trainer.evaluate()\n",
        "\n",
        "    print(\"\\n=== RESULTADOS FINAIS CNN ===\")\n",
        "    for metric, score in final_scores.items():\n",
        "        print(f\"{metric.upper()}: {score:.4f}\")\n",
        "\n",
        "    print(\"\\n5. Gerando gráficos de treinamento...\")\n",
        "    trainer.plot_training_history()\n",
        "\n",
        "    return trained_model, trainer, study\n",
        "\n",
        "if __name__ == \"__main__\":\n",
        "    model, trainer, study = main()\n",
        "\n",
        "    torch.save(model.state_dict(), 'final_cnn_model.pth')\n",
        "    print(\"\\nModelo salvo como 'final_cnn_model.pth'\")\n",
        "\n",
        "    print(f\"\\nNúmero total de trials: {len(study.trials)}\")\n",
        "    print(f\"Trials completados: {len([t for t in study.trials if t.state == optuna.trial.TrialState.COMPLETE])}\")\n",
        "    print(f\"Trials podados: {len([t for t in study.trials if t.state == optuna.trial.TrialState.PRUNED])}\")"
      ],
      "metadata": {
        "colab": {
          "base_uri": "https://localhost:8080/",
          "height": 1000
        },
        "id": "uQc_i2H99RnL",
        "outputId": "5c737fe0-3b99-4d86-ec23-d493c886877b"
      },
      "execution_count": null,
      "outputs": [
        {
          "output_type": "stream",
          "name": "stdout",
          "text": [
            "=== TREINAMENTO CNN CIFAR-10 COM OTIMIZAÇÕES ===\n",
            "\n",
            "1. Preparando dados...\n"
          ]
        },
        {
          "output_type": "stream",
          "name": "stderr",
          "text": [
            "100%|██████████| 170M/170M [00:12<00:00, 13.6MB/s]\n",
            "[I 2025-06-16 00:02:09,640] A new study created in memory with name: no-name-640194e1-1d68-49a4-919c-19e920cdf5b7\n"
          ]
        },
        {
          "output_type": "stream",
          "name": "stdout",
          "text": [
            "Tamanhos dos conjuntos - Treino: 40000, Validação: 10000, Teste: 10000\n",
            "\n",
            "2. Otimizando hiperparâmetros com Optuna...\n"
          ]
        },
        {
          "output_type": "stream",
          "name": "stderr",
          "text": [
            "[I 2025-06-16 00:12:39,205] Trial 0 finished with value: 79.34 and parameters: {'lr': 0.0011201507444650865, 'batch_size': 16, 'dropout_rate': 0.30710037693332, 'activation': 'elu', 'optimizer': 'adamw', 'use_batch_norm': True}. Best is trial 0 with value: 79.34.\n",
            "[I 2025-06-16 00:21:25,642] Trial 1 finished with value: 72.7 and parameters: {'lr': 6.902333165276937e-05, 'batch_size': 32, 'dropout_rate': 0.5561410049153966, 'activation': 'leaky_relu', 'optimizer': 'adamw', 'use_batch_norm': True}. Best is trial 0 with value: 79.34.\n",
            "[I 2025-06-16 00:30:16,813] Trial 2 finished with value: 79.35 and parameters: {'lr': 0.0005203792657007947, 'batch_size': 32, 'dropout_rate': 0.3442827577304103, 'activation': 'relu', 'optimizer': 'adamw', 'use_batch_norm': False}. Best is trial 2 with value: 79.35.\n",
            "[I 2025-06-16 00:38:02,717] Trial 3 finished with value: 39.9 and parameters: {'lr': 6.425453761610101e-05, 'batch_size': 64, 'dropout_rate': 0.12585044088450054, 'activation': 'leaky_relu', 'optimizer': 'sgd', 'use_batch_norm': False}. Best is trial 2 with value: 79.35.\n",
            "[I 2025-06-16 00:46:41,262] Trial 4 finished with value: 52.9 and parameters: {'lr': 1.152998956545738e-05, 'batch_size': 32, 'dropout_rate': 0.4396439695239842, 'activation': 'leaky_relu', 'optimizer': 'adamw', 'use_batch_norm': True}. Best is trial 2 with value: 79.35.\n",
            "[I 2025-06-16 00:47:33,189] Trial 5 pruned. \n",
            "[I 2025-06-16 00:57:58,718] Trial 6 finished with value: 78.23 and parameters: {'lr': 0.00020274389244054748, 'batch_size': 16, 'dropout_rate': 0.38566439849268863, 'activation': 'relu', 'optimizer': 'adamw', 'use_batch_norm': True}. Best is trial 2 with value: 79.35.\n",
            "[I 2025-06-16 00:59:02,164] Trial 7 pruned. \n",
            "[I 2025-06-16 00:59:54,638] Trial 8 pruned. \n",
            "[I 2025-06-16 01:00:46,907] Trial 9 pruned. \n"
          ]
        },
        {
          "output_type": "stream",
          "name": "stdout",
          "text": [
            "\n",
            "=== MELHORES HIPERPARÂMETROS ===\n",
            "  lr: 0.0005203792657007947\n",
            "  batch_size: 32\n",
            "  dropout_rate: 0.3442827577304103\n",
            "  activation: relu\n",
            "  optimizer: adamw\n",
            "  use_batch_norm: False\n",
            "  Melhor accuracy: 79.3500\n",
            "\n",
            "3. Treinamento final com melhores hiperparâmetros...\n",
            "Modelo criado: ResNet com 696,618 parâmetros\n"
          ]
        },
        {
          "output_type": "stream",
          "name": "stderr",
          "text": [
            "Treinando CNN:   2%|▏         | 1/50 [00:51<42:19, 51.83s/it]"
          ]
        },
        {
          "output_type": "stream",
          "name": "stdout",
          "text": [
            "Época 0: Train Loss: 1.6116, Val Loss: 1.5856, Train Acc: 40.83%, Val Acc: 47.69%, LR: 0.000520\n"
          ]
        },
        {
          "output_type": "stream",
          "name": "stderr",
          "text": [
            "Treinando CNN:  22%|██▏       | 11/50 [09:31<34:02, 52.37s/it]"
          ]
        },
        {
          "output_type": "stream",
          "name": "stdout",
          "text": [
            "Época 10: Train Loss: 0.5948, Val Loss: 0.5650, Train Acc: 79.86%, Val Acc: 80.51%, LR: 0.000520\n"
          ]
        },
        {
          "output_type": "stream",
          "name": "stderr",
          "text": [
            "Treinando CNN:  42%|████▏     | 21/50 [18:05<24:46, 51.27s/it]"
          ]
        },
        {
          "output_type": "stream",
          "name": "stdout",
          "text": [
            "Época 20: Train Loss: 0.4325, Val Loss: 0.4713, Train Acc: 85.21%, Val Acc: 83.74%, LR: 0.000520\n"
          ]
        },
        {
          "output_type": "stream",
          "name": "stderr",
          "text": [
            "Treinando CNN:  62%|██████▏   | 31/50 [26:39<16:17, 51.46s/it]"
          ]
        },
        {
          "output_type": "stream",
          "name": "stdout",
          "text": [
            "Época 30: Train Loss: 0.3418, Val Loss: 0.4530, Train Acc: 88.13%, Val Acc: 84.21%, LR: 0.000520\n"
          ]
        },
        {
          "output_type": "stream",
          "name": "stderr",
          "text": [
            "Treinando CNN:  72%|███████▏  | 36/50 [31:48<12:22, 53.03s/it]"
          ]
        },
        {
          "output_type": "stream",
          "name": "stdout",
          "text": [
            "Early stopping na época 36\n",
            "\n",
            "4. Avaliação final no conjunto de teste...\n"
          ]
        },
        {
          "output_type": "stream",
          "name": "stderr",
          "text": [
            "\n"
          ]
        },
        {
          "output_type": "stream",
          "name": "stdout",
          "text": [
            "\n",
            "=== RESULTADOS FINAIS CNN ===\n",
            "ACCURACY: 0.8893\n",
            "BALANCED_ACCURACY: 0.8893\n",
            "PRECISION: 0.8902\n",
            "RECALL: 0.8893\n",
            "F1_SCORE: 0.8895\n",
            "\n",
            "5. Gerando gráficos de treinamento...\n"
          ]
        },
        {
          "output_type": "display_data",
          "data": {
            "text/plain": [
              "<Figure size 1500x500 with 2 Axes>"
            ],
            "image/png": "[encoded data removed]"
          },
          "metadata": {}
        },
        {
          "output_type": "stream",
          "name": "stdout",
          "text": [
            "\n",
            "Modelo salvo como 'final_cnn_model.pth'\n",
            "\n",
            "Número total de trials: 10\n",
            "Trials completados: 6\n",
            "Trials podados: 4\n"
          ]
        }
      ]
    },
    {
      "cell_type": "markdown",
      "source": [
        "# Desempenho e Resultados com Optuna\n",
        "Durante o processo de otimização com Optuna, foram realizados 10 trials, dos quais 6 foram completados com sucesso e 4 foram interrompidos automaticamente (pruned) por não apresentarem melhorias significativas durante o treinamento. **O baixo número de tentativas se deu pelo fato da limitação computacional que sofremos com o uso do Google Colab.**\n",
        "\n",
        "O modelo final escolhido foi treinado por até 36 épocas, com early stopping ativado, interrompendo o treinamento quando a validação deixou de melhorar consistentemente. Ao longo do processo, observou-se um progresso constante nas métricas:\n",
        "\n",
        "- Época 10: Val Acc = 80,51%\n",
        "\n",
        "- Época 20: Val Acc = 83,74%\n",
        "\n",
        "- Época 30: Val Acc = 84,21%\n",
        "\n",
        "> Após o treinamento, o modelo foi avaliado no conjunto de teste final, obtendo os seguintes resultados:\n",
        "\n",
        "# Métricas\n",
        "1. Accuracy:\t88,93%\n",
        "\n",
        "2. Balanced Accuracy:\t88,93%\n",
        "\n",
        "3. Precision: \t89,02%\n",
        "\n",
        "4. Recall:\t88,93%\n",
        "\n",
        "5. F1-Score:\t88,95%\n",
        "\n",
        "> Essas métricas indicam um desempenho consistente e bem balanceado entre as classes do CIFAR-10, demonstrando que o modelo treinado com CNN otimizada via Optuna foi eficaz na tarefa de classificação.\n",
        "\n",
        "# Conclusão\n",
        "> A utilização do Optuna foi fundamental para explorar automaticamente combinações eficientes de hiperparâmetros como taxa de aprendizado, batch size, dropout, ativação, otimizador e uso de batch normalization. Com isso, foi possível alcançar quase 89% de acurácia no teste, o que representa uma melhora significativa em relação a abordagens mais simples como MLPs. O modelo foi salvo como 'final_cnn_model.pth' e os gráficos de desempenho foram gerados ao final do processo."
      ],
      "metadata": {
        "id": "kCqdRV6QhpQW"
      }
    }
  ]
}